{
 "cells": [
  {
   "cell_type": "markdown",
   "metadata": {
    "id": "SYRBWjZ45x7x",
    "tags": []
   },
   "source": [
    "## Data Science Job Salaries Analysis and Prediction"
   ]
  },
  {
   "cell_type": "code",
   "execution_count": 1,
   "metadata": {
    "executionInfo": {
     "elapsed": 2655,
     "status": "ok",
     "timestamp": 1669371883791,
     "user": {
      "displayName": "Amar Yasir",
      "userId": "15826574770568818472"
     },
     "user_tz": -480
    },
    "id": "lKhd7gwj6E1X"
   },
   "outputs": [],
   "source": [
    "# import requried libraries\n",
    "import pandas as pd\n",
    "import numpy as np\n",
    "import statistics as stats\n",
    "import scipy.stats\n",
    "import matplotlib.pyplot as plt\n",
    "import seaborn as sns\n",
    "import plotly.express as px"
   ]
  },
  {
   "cell_type": "code",
   "execution_count": 2,
   "metadata": {
    "colab": {
     "base_uri": "https://localhost:8080/",
     "height": 206
    },
    "executionInfo": {
     "elapsed": 24,
     "status": "ok",
     "timestamp": 1669367657276,
     "user": {
      "displayName": "Amar Yasir",
      "userId": "15826574770568818472"
     },
     "user_tz": -480
    },
    "id": "vxg3ki_R6MOf",
    "outputId": "6736bdc6-2271-4295-c2ce-52e2edd6351e"
   },
   "outputs": [
    {
     "data": {
      "text/html": [
       "<div>\n",
       "<style scoped>\n",
       "    .dataframe tbody tr th:only-of-type {\n",
       "        vertical-align: middle;\n",
       "    }\n",
       "\n",
       "    .dataframe tbody tr th {\n",
       "        vertical-align: top;\n",
       "    }\n",
       "\n",
       "    .dataframe thead th {\n",
       "        text-align: right;\n",
       "    }\n",
       "</style>\n",
       "<table border=\"1\" class=\"dataframe\">\n",
       "  <thead>\n",
       "    <tr style=\"text-align: right;\">\n",
       "      <th></th>\n",
       "      <th>Unnamed: 0</th>\n",
       "      <th>work_year</th>\n",
       "      <th>experience_level</th>\n",
       "      <th>employment_type</th>\n",
       "      <th>job_title</th>\n",
       "      <th>salary</th>\n",
       "      <th>salary_currency</th>\n",
       "      <th>salary_in_usd</th>\n",
       "      <th>employee_residence</th>\n",
       "      <th>remote_ratio</th>\n",
       "      <th>company_location</th>\n",
       "      <th>company_size</th>\n",
       "    </tr>\n",
       "  </thead>\n",
       "  <tbody>\n",
       "    <tr>\n",
       "      <th>0</th>\n",
       "      <td>0</td>\n",
       "      <td>2020</td>\n",
       "      <td>MI</td>\n",
       "      <td>FT</td>\n",
       "      <td>Data Scientist</td>\n",
       "      <td>70000</td>\n",
       "      <td>EUR</td>\n",
       "      <td>79833</td>\n",
       "      <td>DE</td>\n",
       "      <td>0</td>\n",
       "      <td>DE</td>\n",
       "      <td>L</td>\n",
       "    </tr>\n",
       "    <tr>\n",
       "      <th>1</th>\n",
       "      <td>1</td>\n",
       "      <td>2020</td>\n",
       "      <td>SE</td>\n",
       "      <td>FT</td>\n",
       "      <td>Machine Learning Scientist</td>\n",
       "      <td>260000</td>\n",
       "      <td>USD</td>\n",
       "      <td>260000</td>\n",
       "      <td>JP</td>\n",
       "      <td>0</td>\n",
       "      <td>JP</td>\n",
       "      <td>S</td>\n",
       "    </tr>\n",
       "    <tr>\n",
       "      <th>2</th>\n",
       "      <td>2</td>\n",
       "      <td>2020</td>\n",
       "      <td>SE</td>\n",
       "      <td>FT</td>\n",
       "      <td>Big Data Engineer</td>\n",
       "      <td>85000</td>\n",
       "      <td>GBP</td>\n",
       "      <td>109024</td>\n",
       "      <td>GB</td>\n",
       "      <td>50</td>\n",
       "      <td>GB</td>\n",
       "      <td>M</td>\n",
       "    </tr>\n",
       "    <tr>\n",
       "      <th>3</th>\n",
       "      <td>3</td>\n",
       "      <td>2020</td>\n",
       "      <td>MI</td>\n",
       "      <td>FT</td>\n",
       "      <td>Product Data Analyst</td>\n",
       "      <td>20000</td>\n",
       "      <td>USD</td>\n",
       "      <td>20000</td>\n",
       "      <td>HN</td>\n",
       "      <td>0</td>\n",
       "      <td>HN</td>\n",
       "      <td>S</td>\n",
       "    </tr>\n",
       "    <tr>\n",
       "      <th>4</th>\n",
       "      <td>4</td>\n",
       "      <td>2020</td>\n",
       "      <td>SE</td>\n",
       "      <td>FT</td>\n",
       "      <td>Machine Learning Engineer</td>\n",
       "      <td>150000</td>\n",
       "      <td>USD</td>\n",
       "      <td>150000</td>\n",
       "      <td>US</td>\n",
       "      <td>50</td>\n",
       "      <td>US</td>\n",
       "      <td>L</td>\n",
       "    </tr>\n",
       "  </tbody>\n",
       "</table>\n",
       "</div>"
      ],
      "text/plain": [
       "   Unnamed: 0  work_year experience_level employment_type  \\\n",
       "0           0       2020               MI              FT   \n",
       "1           1       2020               SE              FT   \n",
       "2           2       2020               SE              FT   \n",
       "3           3       2020               MI              FT   \n",
       "4           4       2020               SE              FT   \n",
       "\n",
       "                    job_title  salary salary_currency  salary_in_usd  \\\n",
       "0              Data Scientist   70000             EUR          79833   \n",
       "1  Machine Learning Scientist  260000             USD         260000   \n",
       "2           Big Data Engineer   85000             GBP         109024   \n",
       "3        Product Data Analyst   20000             USD          20000   \n",
       "4   Machine Learning Engineer  150000             USD         150000   \n",
       "\n",
       "  employee_residence  remote_ratio company_location company_size  \n",
       "0                 DE             0               DE            L  \n",
       "1                 JP             0               JP            S  \n",
       "2                 GB            50               GB            M  \n",
       "3                 HN             0               HN            S  \n",
       "4                 US            50               US            L  "
      ]
     },
     "execution_count": 2,
     "metadata": {},
     "output_type": "execute_result"
    }
   ],
   "source": [
    "# get the dataset\n",
    "df = pd.read_csv('ds_salaries.csv')\n",
    "df.head()"
   ]
  },
  {
   "cell_type": "code",
   "execution_count": null,
   "metadata": {
    "executionInfo": {
     "elapsed": 24,
     "status": "ok",
     "timestamp": 1669367657277,
     "user": {
      "displayName": "Amar Yasir",
      "userId": "15826574770568818472"
     },
     "user_tz": -480
    },
    "id": "K1SCUWqS8ZzI"
   },
   "outputs": [],
   "source": []
  },
  {
   "cell_type": "markdown",
   "metadata": {
    "id": "1K3R_v5u9xrj"
   },
   "source": [
    "### Data Understanding"
   ]
  },
  {
   "cell_type": "code",
   "execution_count": 3,
   "metadata": {
    "colab": {
     "base_uri": "https://localhost:8080/"
    },
    "executionInfo": {
     "elapsed": 23,
     "status": "ok",
     "timestamp": 1669367657277,
     "user": {
      "displayName": "Amar Yasir",
      "userId": "15826574770568818472"
     },
     "user_tz": -480
    },
    "id": "pTpLMCWi-IaQ",
    "outputId": "8049cd86-7b18-45b7-a21d-a8aa55c0ec27"
   },
   "outputs": [
    {
     "data": {
      "text/plain": [
       "(607, 12)"
      ]
     },
     "execution_count": 3,
     "metadata": {},
     "output_type": "execute_result"
    }
   ],
   "source": [
    "df.shape"
   ]
  },
  {
   "cell_type": "code",
   "execution_count": 4,
   "metadata": {
    "colab": {
     "base_uri": "https://localhost:8080/"
    },
    "executionInfo": {
     "elapsed": 21,
     "status": "ok",
     "timestamp": 1669367657277,
     "user": {
      "displayName": "Amar Yasir",
      "userId": "15826574770568818472"
     },
     "user_tz": -480
    },
    "id": "RZMHsrzV77bQ",
    "outputId": "4ab4c1e1-d2f9-46ab-ebea-bab5aae6002e"
   },
   "outputs": [
    {
     "data": {
      "text/plain": [
       "Unnamed: 0             int64\n",
       "work_year              int64\n",
       "experience_level      object\n",
       "employment_type       object\n",
       "job_title             object\n",
       "salary                 int64\n",
       "salary_currency       object\n",
       "salary_in_usd          int64\n",
       "employee_residence    object\n",
       "remote_ratio           int64\n",
       "company_location      object\n",
       "company_size          object\n",
       "dtype: object"
      ]
     },
     "execution_count": 4,
     "metadata": {},
     "output_type": "execute_result"
    }
   ],
   "source": [
    "df.dtypes"
   ]
  },
  {
   "cell_type": "code",
   "execution_count": 5,
   "metadata": {
    "colab": {
     "base_uri": "https://localhost:8080/"
    },
    "executionInfo": {
     "elapsed": 19,
     "status": "ok",
     "timestamp": 1669367657277,
     "user": {
      "displayName": "Amar Yasir",
      "userId": "15826574770568818472"
     },
     "user_tz": -480
    },
    "id": "qfcUUH8t7FCx",
    "outputId": "17fa8e44-090a-4b5d-d9af-51ca851b1575"
   },
   "outputs": [
    {
     "data": {
      "text/plain": [
       "Index(['Unnamed: 0', 'work_year', 'experience_level', 'employment_type',\n",
       "       'job_title', 'salary', 'salary_currency', 'salary_in_usd',\n",
       "       'employee_residence', 'remote_ratio', 'company_location',\n",
       "       'company_size'],\n",
       "      dtype='object')"
      ]
     },
     "execution_count": 5,
     "metadata": {},
     "output_type": "execute_result"
    }
   ],
   "source": [
    "df.columns"
   ]
  },
  {
   "cell_type": "code",
   "execution_count": null,
   "metadata": {
    "executionInfo": {
     "elapsed": 19,
     "status": "ok",
     "timestamp": 1669367657278,
     "user": {
      "displayName": "Amar Yasir",
      "userId": "15826574770568818472"
     },
     "user_tz": -480
    },
    "id": "St0BGw0F7HMh"
   },
   "outputs": [],
   "source": []
  },
  {
   "cell_type": "markdown",
   "metadata": {
    "id": "zcMTIvqk7LIC"
   },
   "source": [
    "### columns avaliable in this dataset\n",
    "\n",
    "* work_year, experience_level, employment_type, job_title\n",
    "* salary, salary_currency, salary_in_usd\n",
    "* employee_residence, remote_ratio\n",
    "* company_location, company_size"
   ]
  },
  {
   "cell_type": "code",
   "execution_count": 6,
   "metadata": {
    "colab": {
     "base_uri": "https://localhost:8080/"
    },
    "executionInfo": {
     "elapsed": 19,
     "status": "ok",
     "timestamp": 1669367657278,
     "user": {
      "displayName": "Amar Yasir",
      "userId": "15826574770568818472"
     },
     "user_tz": -480
    },
    "id": "E-Ul7kTC97B5",
    "outputId": "f34709a2-4b01-4cb7-c7c8-c8bc8200d5a6"
   },
   "outputs": [
    {
     "name": "stdout",
     "output_type": "stream",
     "text": [
      "Unique values of  Unnamed: 0 column: \n",
      " [  0   1   2   3   4   5   6   7   8   9  10  11  12  13  14  15  16  17\n",
      "  18  19  20  21  22  23  24  25  26  27  28  29  30  31  32  33  34  35\n",
      "  36  37  38  39  40  41  42  43  44  45  46  47  48  49  50  51  52  53\n",
      "  54  55  56  57  58  59  60  61  62  63  64  65  66  67  68  69  70  71\n",
      "  72  73  74  75  76  77  78  79  80  81  82  83  84  85  86  87  88  89\n",
      "  90  91  92  93  94  95  96  97  98  99 100 101 102 103 104 105 106 107\n",
      " 108 109 110 111 112 113 114 115 116 117 118 119 120 121 122 123 124 125\n",
      " 126 127 128 129 130 131 132 133 134 135 136 137 138 139 140 141 142 143\n",
      " 144 145 146 147 148 149 150 151 152 153 154 155 156 157 158 159 160 161\n",
      " 162 163 164 165 166 167 168 169 170 171 172 173 174 175 176 177 178 179\n",
      " 180 181 182 183 184 185 186 187 188 189 190 191 192 193 194 195 196 197\n",
      " 198 199 200 201 202 203 204 205 206 207 208 209 210 211 212 213 214 215\n",
      " 216 217 218 219 220 221 222 223 224 225 226 227 228 229 230 231 232 233\n",
      " 234 235 236 237 238 239 240 241 242 243 244 245 246 247 248 249 250 251\n",
      " 252 253 254 255 256 257 258 259 260 261 262 263 264 265 266 267 268 269\n",
      " 270 271 272 273 274 275 276 277 278 279 280 281 282 283 284 285 286 287\n",
      " 288 289 290 291 292 293 294 295 296 297 298 299 300 301 302 303 304 305\n",
      " 306 307 308 309 310 311 312 313 314 315 316 317 318 319 320 321 322 323\n",
      " 324 325 326 327 328 329 330 331 332 333 334 335 336 337 338 339 340 341\n",
      " 342 343 344 345 346 347 348 349 350 351 352 353 354 355 356 357 358 359\n",
      " 360 361 362 363 364 365 366 367 368 369 370 371 372 373 374 375 376 377\n",
      " 378 379 380 381 382 383 384 385 386 387 388 389 390 391 392 393 394 395\n",
      " 396 397 398 399 400 401 402 403 404 405 406 407 408 409 410 411 412 413\n",
      " 414 415 416 417 418 419 420 421 422 423 424 425 426 427 428 429 430 431\n",
      " 432 433 434 435 436 437 438 439 440 441 442 443 444 445 446 447 448 449\n",
      " 450 451 452 453 454 455 456 457 458 459 460 461 462 463 464 465 466 467\n",
      " 468 469 470 471 472 473 474 475 476 477 478 479 480 481 482 483 484 485\n",
      " 486 487 488 489 490 491 492 493 494 495 496 497 498 499 500 501 502 503\n",
      " 504 505 506 507 508 509 510 511 512 513 514 515 516 517 518 519 520 521\n",
      " 522 523 524 525 526 527 528 529 530 531 532 533 534 535 536 537 538 539\n",
      " 540 541 542 543 544 545 546 547 548 549 550 551 552 553 554 555 556 557\n",
      " 558 559 560 561 562 563 564 565 566 567 568 569 570 571 572 573 574 575\n",
      " 576 577 578 579 580 581 582 583 584 585 586 587 588 589 590 591 592 593\n",
      " 594 595 596 597 598 599 600 601 602 603 604 605 606] \n",
      "\n",
      "\n",
      "Unique values of  work_year column: \n",
      " [2020 2021 2022] \n",
      "\n",
      "\n",
      "Unique values of  experience_level column: \n",
      " ['MI' 'SE' 'EN' 'EX'] \n",
      "\n",
      "\n",
      "Unique values of  employment_type column: \n",
      " ['FT' 'CT' 'PT' 'FL'] \n",
      "\n",
      "\n",
      "Unique values of  job_title column: \n",
      " ['Data Scientist' 'Machine Learning Scientist' 'Big Data Engineer'\n",
      " 'Product Data Analyst' 'Machine Learning Engineer' 'Data Analyst'\n",
      " 'Lead Data Scientist' 'Business Data Analyst' 'Lead Data Engineer'\n",
      " 'Lead Data Analyst' 'Data Engineer' 'Data Science Consultant'\n",
      " 'BI Data Analyst' 'Director of Data Science' 'Research Scientist'\n",
      " 'Machine Learning Manager' 'Data Engineering Manager'\n",
      " 'Machine Learning Infrastructure Engineer' 'ML Engineer' 'AI Scientist'\n",
      " 'Computer Vision Engineer' 'Principal Data Scientist'\n",
      " 'Data Science Manager' 'Head of Data' '3D Computer Vision Researcher'\n",
      " 'Data Analytics Engineer' 'Applied Data Scientist'\n",
      " 'Marketing Data Analyst' 'Cloud Data Engineer' 'Financial Data Analyst'\n",
      " 'Computer Vision Software Engineer' 'Director of Data Engineering'\n",
      " 'Data Science Engineer' 'Principal Data Engineer'\n",
      " 'Machine Learning Developer' 'Applied Machine Learning Scientist'\n",
      " 'Data Analytics Manager' 'Head of Data Science' 'Data Specialist'\n",
      " 'Data Architect' 'Finance Data Analyst' 'Principal Data Analyst'\n",
      " 'Big Data Architect' 'Staff Data Scientist' 'Analytics Engineer'\n",
      " 'ETL Developer' 'Head of Machine Learning' 'NLP Engineer'\n",
      " 'Lead Machine Learning Engineer' 'Data Analytics Lead'] \n",
      "\n",
      "\n",
      "Unique values of  salary column: \n",
      " [   70000   260000    85000    20000   150000    72000   190000 11000000\n",
      "   135000   125000    45000  3000000    35000    87000     8000  4450000\n",
      "   100000   423000    56000   299000   450000    42000    98000   115000\n",
      "   325000   720000   157000    51999    60000    41000    65000   103000\n",
      "   250000    10000   138000    45760    44000   106000    88000    14000\n",
      "   188000   105000    61500    91000   300000    48000   130000    34000\n",
      "   118000   120000   138350   110000   130800    19000   412000    40000\n",
      "    55000    43200   190200    80000    37000   235000   400000   270000\n",
      "    67000   140000    68000    50000   170000    75000  1450000   276000\n",
      "  2200000    12000    81000    62000    73000    37456  2250000    82500\n",
      "    38400   225000    90000   200000     8760   151000   700000    24000\n",
      "  7000000  8500000   220000   240000    53000   153000   160000   168000\n",
      "    95000    13400   144000   159500   230000    54000   165000    51400\n",
      "   174000    58000 30400000   420000  1672000    76760    22000     4000\n",
      "    59000    74000   152000    21844    18000   120500   147000     9272\n",
      "  1799997  4000000    52000   195000    32000    69600    21000   435000\n",
      "   185000   180000  2500000    40900   416000  1200000   256000    39600\n",
      "  1600000  1335000    52500    31000   108000   600000  2100000    93000\n",
      "  1250000  4900000    21600    93150   111775    72500   102000    65720\n",
      "   112000    69999   109000   155000   120600   102100    84900   136620\n",
      "    99360   146000   123000    99000   116000   106260   126500   242000\n",
      "    30000   165220   120160    90320   181940   132320   220110   160080\n",
      "   124190   115500   112900   165400   167000   243900   136600   109280\n",
      "   128875    93700   224000   167875   175000   156600   108800    95550\n",
      "   113000   161342   137141   211500   192400    90700    61300   138600\n",
      "   136000   189650   164996   132000   208775   147800   136994   101570\n",
      "  6000000    28500   164000   145000   105400   215300   158200   209100\n",
      "   154600   115934    81666   183600    63900   112300   241000   159000\n",
      "    82900   100800   140400  1400000  2400000   148000   104890   185100\n",
      "   324000   216000   210000    29000    52800    66500    57000   121000\n",
      "   152500   380000   405000   177000    78000   214000   192600   266400\n",
      "   213120   141300   206699    99100   110500    99050   205300   176000\n",
      "   200100    70500   184700   175100   140250   116150    69000   150075\n",
      "    25000   110925   192564   144854   150260   154000   126000   129000] \n",
      "\n",
      "\n",
      "Unique values of  salary_currency column: \n",
      " ['EUR' 'USD' 'GBP' 'HUF' 'INR' 'JPY' 'CNY' 'MXN' 'CAD' 'DKK' 'PLN' 'SGD'\n",
      " 'CLP' 'BRL' 'TRY' 'AUD' 'CHF'] \n",
      "\n",
      "\n",
      "Unique values of  salary_in_usd column: \n",
      " [ 79833 260000 109024  20000 150000  72000 190000  35735 135000 125000\n",
      "  51321  40481  39916  87000  85000   8000  41689 114047   5707  56000\n",
      "  43331   6072  47899  98000 115000 325000  42000  33511 100000 117104\n",
      "  59303  70000  68428 450000  46759  74130 103000 250000  10000 138000\n",
      "  45760  50180 106000 112872  15966  76958 188000 105000  70139  91000\n",
      "  45896  54742  60000 148261  38776 118000 120000 138350 110000 130800\n",
      "  21669 412000  45618  62726  49268 190200  91237  42197  82528 235000\n",
      "  53192   5409 270000  80000  79197 140000  54238  47282 153667  28476\n",
      "  59102 170000  88654  76833  19609 276000  29751  89294  12000  95746\n",
      "  75000  36259  62000  73000  51519 187442  30428  94564 113476 103160\n",
      "  45391 225000  50000  40189  90000 200000 110037  10354 151000   9466\n",
      "  40570  49646  38400  24000  63711  77364 220000 240000  82500  82744\n",
      "  62649 153000 160000 168000  75774  13400 144000 127221 119059 423000\n",
      " 230000  28369  63831 130026 165000  55000  60757 174000   2859  40038\n",
      "  81000   5679  22611  90734  26005  61896   4000  69741  74000 152000\n",
      "  21844  18000  96113 147000   9272  24342  54094  61467 195000  37825\n",
      "  12901  24823  56738  66022   5882 185000  28609  46597 116914  33808\n",
      "  56256 416000  87738  71786  16228 256000 180000  63810  46809  21637\n",
      " 103691  18053  72212  36643  12103  96282 600000  28399  93000  99703\n",
      " 173762 141846 130000  16904  66265  25532  93150 111775  28016  65013\n",
      "  72500  18907  77684  58000  20171 112000  69999  94665 102839 109000\n",
      "  51064 155000 120600 102100  84900 136620  99360 117789 104702 146000\n",
      " 123000  52351  99000 116000 106260 126500 242000  65438  39263  78526\n",
      " 165220  45807 120160  90320 181940 132320 220110 160080 124190 115500\n",
      " 112900 165400 167000 243900 136600 109280 128875  93700 224000 167875\n",
      " 175000 156600 108800  95550 113000 161342 137141 211500 192400  90700\n",
      "  61300 138600 136000 189650 164996  54957 118187 132000 208775 147800\n",
      " 136994 101570  79039  37300 164000 124333  98158 145000 105400  87932\n",
      " 215300 158200 209100 154600 115934  81666 183600  71982  65949  49461\n",
      "  58894  63900 112300 241000 159000  82900 100800 140400  43966  32974\n",
      "  76940  91614  21983  78791 196979  37236  18442  31615  58255 162674\n",
      " 104890 183228 185100  65000 324000 216000 210000  31875  35590  58035\n",
      "  93427  52396  62651  40000  87425  86703  64849 157000  70912  71444\n",
      "  48000 152500  68147 122346 380000  69336 405000 177000  78000 214000\n",
      " 192600 266400 213120 141300 206699  99100 110500  99050 205300 176000\n",
      " 200100  70500 184700 175100 140250 116150  54000  69000 150075  25000\n",
      " 110925 192564 144854 150260  67000  52000 154000 126000 129000] \n",
      "\n",
      "\n",
      "Unique values of  employee_residence column: \n",
      " ['DE' 'JP' 'GB' 'HN' 'US' 'HU' 'NZ' 'FR' 'IN' 'PK' 'PL' 'PT' 'CN' 'GR'\n",
      " 'AE' 'NL' 'MX' 'CA' 'AT' 'NG' 'PH' 'ES' 'DK' 'RU' 'IT' 'HR' 'BG' 'SG'\n",
      " 'BR' 'IQ' 'VN' 'BE' 'UA' 'MT' 'CL' 'RO' 'IR' 'CO' 'MD' 'KE' 'SI' 'HK'\n",
      " 'TR' 'RS' 'PR' 'LU' 'JE' 'CZ' 'AR' 'DZ' 'TN' 'MY' 'EE' 'AU' 'BO' 'IE'\n",
      " 'CH'] \n",
      "\n",
      "\n",
      "Unique values of  remote_ratio column: \n",
      " [  0  50 100] \n",
      "\n",
      "\n",
      "Unique values of  company_location column: \n",
      " ['DE' 'JP' 'GB' 'HN' 'US' 'HU' 'NZ' 'FR' 'IN' 'PK' 'CN' 'GR' 'AE' 'NL'\n",
      " 'MX' 'CA' 'AT' 'NG' 'ES' 'PT' 'DK' 'IT' 'HR' 'LU' 'PL' 'SG' 'RO' 'IQ'\n",
      " 'BR' 'BE' 'UA' 'IL' 'RU' 'MT' 'CL' 'IR' 'CO' 'MD' 'KE' 'SI' 'CH' 'VN'\n",
      " 'AS' 'TR' 'CZ' 'DZ' 'EE' 'MY' 'AU' 'IE'] \n",
      "\n",
      "\n",
      "Unique values of  company_size column: \n",
      " ['L' 'S' 'M'] \n",
      "\n",
      "\n"
     ]
    }
   ],
   "source": [
    "column_list = df.columns\n",
    "\n",
    "for col in column_list:\n",
    "    print(\"Unique values of \", col, \"column: \\n\",df[col].unique(), \"\\n\\n\")"
   ]
  },
  {
   "cell_type": "code",
   "execution_count": null,
   "metadata": {
    "executionInfo": {
     "elapsed": 17,
     "status": "ok",
     "timestamp": 1669367657278,
     "user": {
      "displayName": "Amar Yasir",
      "userId": "15826574770568818472"
     },
     "user_tz": -480
    },
    "id": "xv5CY-tO_278"
   },
   "outputs": [],
   "source": []
  },
  {
   "cell_type": "markdown",
   "metadata": {
    "id": "cnWYweHq8cln"
   },
   "source": [
    "## Data Cleaning"
   ]
  },
  {
   "cell_type": "code",
   "execution_count": 7,
   "metadata": {
    "executionInfo": {
     "elapsed": 18,
     "status": "ok",
     "timestamp": 1669367657279,
     "user": {
      "displayName": "Amar Yasir",
      "userId": "15826574770568818472"
     },
     "user_tz": -480
    },
    "id": "u4XaQayQ60_E"
   },
   "outputs": [],
   "source": [
    "# remove the 'Unnamed: 0 ' column\n",
    "df.drop('Unnamed: 0', axis=1, inplace=True)"
   ]
  },
  {
   "cell_type": "code",
   "execution_count": 8,
   "metadata": {
    "colab": {
     "base_uri": "https://localhost:8080/",
     "height": 206
    },
    "executionInfo": {
     "elapsed": 18,
     "status": "ok",
     "timestamp": 1669367657279,
     "user": {
      "displayName": "Amar Yasir",
      "userId": "15826574770568818472"
     },
     "user_tz": -480
    },
    "id": "eVjTfJE1664h",
    "outputId": "cf556910-4ccc-4a2a-cc89-3a0972f47e7f"
   },
   "outputs": [
    {
     "data": {
      "text/html": [
       "<div>\n",
       "<style scoped>\n",
       "    .dataframe tbody tr th:only-of-type {\n",
       "        vertical-align: middle;\n",
       "    }\n",
       "\n",
       "    .dataframe tbody tr th {\n",
       "        vertical-align: top;\n",
       "    }\n",
       "\n",
       "    .dataframe thead th {\n",
       "        text-align: right;\n",
       "    }\n",
       "</style>\n",
       "<table border=\"1\" class=\"dataframe\">\n",
       "  <thead>\n",
       "    <tr style=\"text-align: right;\">\n",
       "      <th></th>\n",
       "      <th>work_year</th>\n",
       "      <th>experience_level</th>\n",
       "      <th>employment_type</th>\n",
       "      <th>job_title</th>\n",
       "      <th>salary</th>\n",
       "      <th>salary_currency</th>\n",
       "      <th>salary_in_usd</th>\n",
       "      <th>employee_residence</th>\n",
       "      <th>remote_ratio</th>\n",
       "      <th>company_location</th>\n",
       "      <th>company_size</th>\n",
       "    </tr>\n",
       "  </thead>\n",
       "  <tbody>\n",
       "    <tr>\n",
       "      <th>0</th>\n",
       "      <td>2020</td>\n",
       "      <td>MI</td>\n",
       "      <td>FT</td>\n",
       "      <td>Data Scientist</td>\n",
       "      <td>70000</td>\n",
       "      <td>EUR</td>\n",
       "      <td>79833</td>\n",
       "      <td>DE</td>\n",
       "      <td>0</td>\n",
       "      <td>DE</td>\n",
       "      <td>L</td>\n",
       "    </tr>\n",
       "    <tr>\n",
       "      <th>1</th>\n",
       "      <td>2020</td>\n",
       "      <td>SE</td>\n",
       "      <td>FT</td>\n",
       "      <td>Machine Learning Scientist</td>\n",
       "      <td>260000</td>\n",
       "      <td>USD</td>\n",
       "      <td>260000</td>\n",
       "      <td>JP</td>\n",
       "      <td>0</td>\n",
       "      <td>JP</td>\n",
       "      <td>S</td>\n",
       "    </tr>\n",
       "    <tr>\n",
       "      <th>2</th>\n",
       "      <td>2020</td>\n",
       "      <td>SE</td>\n",
       "      <td>FT</td>\n",
       "      <td>Big Data Engineer</td>\n",
       "      <td>85000</td>\n",
       "      <td>GBP</td>\n",
       "      <td>109024</td>\n",
       "      <td>GB</td>\n",
       "      <td>50</td>\n",
       "      <td>GB</td>\n",
       "      <td>M</td>\n",
       "    </tr>\n",
       "    <tr>\n",
       "      <th>3</th>\n",
       "      <td>2020</td>\n",
       "      <td>MI</td>\n",
       "      <td>FT</td>\n",
       "      <td>Product Data Analyst</td>\n",
       "      <td>20000</td>\n",
       "      <td>USD</td>\n",
       "      <td>20000</td>\n",
       "      <td>HN</td>\n",
       "      <td>0</td>\n",
       "      <td>HN</td>\n",
       "      <td>S</td>\n",
       "    </tr>\n",
       "    <tr>\n",
       "      <th>4</th>\n",
       "      <td>2020</td>\n",
       "      <td>SE</td>\n",
       "      <td>FT</td>\n",
       "      <td>Machine Learning Engineer</td>\n",
       "      <td>150000</td>\n",
       "      <td>USD</td>\n",
       "      <td>150000</td>\n",
       "      <td>US</td>\n",
       "      <td>50</td>\n",
       "      <td>US</td>\n",
       "      <td>L</td>\n",
       "    </tr>\n",
       "  </tbody>\n",
       "</table>\n",
       "</div>"
      ],
      "text/plain": [
       "   work_year experience_level employment_type                   job_title  \\\n",
       "0       2020               MI              FT              Data Scientist   \n",
       "1       2020               SE              FT  Machine Learning Scientist   \n",
       "2       2020               SE              FT           Big Data Engineer   \n",
       "3       2020               MI              FT        Product Data Analyst   \n",
       "4       2020               SE              FT   Machine Learning Engineer   \n",
       "\n",
       "   salary salary_currency  salary_in_usd employee_residence  remote_ratio  \\\n",
       "0   70000             EUR          79833                 DE             0   \n",
       "1  260000             USD         260000                 JP             0   \n",
       "2   85000             GBP         109024                 GB            50   \n",
       "3   20000             USD          20000                 HN             0   \n",
       "4  150000             USD         150000                 US            50   \n",
       "\n",
       "  company_location company_size  \n",
       "0               DE            L  \n",
       "1               JP            S  \n",
       "2               GB            M  \n",
       "3               HN            S  \n",
       "4               US            L  "
      ]
     },
     "execution_count": 8,
     "metadata": {},
     "output_type": "execute_result"
    }
   ],
   "source": [
    "df.head()"
   ]
  },
  {
   "cell_type": "code",
   "execution_count": 9,
   "metadata": {
    "colab": {
     "base_uri": "https://localhost:8080/"
    },
    "executionInfo": {
     "elapsed": 17,
     "status": "ok",
     "timestamp": 1669367657279,
     "user": {
      "displayName": "Amar Yasir",
      "userId": "15826574770568818472"
     },
     "user_tz": -480
    },
    "id": "q0126HfQ8C1w",
    "outputId": "80b7f8c0-c4af-41a3-d799-91d53073fed6"
   },
   "outputs": [
    {
     "data": {
      "text/plain": [
       "work_year             0\n",
       "experience_level      0\n",
       "employment_type       0\n",
       "job_title             0\n",
       "salary                0\n",
       "salary_currency       0\n",
       "salary_in_usd         0\n",
       "employee_residence    0\n",
       "remote_ratio          0\n",
       "company_location      0\n",
       "company_size          0\n",
       "dtype: int64"
      ]
     },
     "execution_count": 9,
     "metadata": {},
     "output_type": "execute_result"
    }
   ],
   "source": [
    "df.isnull().sum()"
   ]
  },
  {
   "cell_type": "markdown",
   "metadata": {
    "id": "eSnaNNrF-VL3"
   },
   "source": [
    "There is no missing attributes in this dataset but lets make sure to remove duplicates"
   ]
  },
  {
   "cell_type": "code",
   "execution_count": null,
   "metadata": {
    "executionInfo": {
     "elapsed": 15,
     "status": "ok",
     "timestamp": 1669367657280,
     "user": {
      "displayName": "Amar Yasir",
      "userId": "15826574770568818472"
     },
     "user_tz": -480
    },
    "id": "Y1rZzdy5-TPG"
   },
   "outputs": [],
   "source": []
  },
  {
   "cell_type": "markdown",
   "metadata": {
    "id": "mtejHmfV-nWv"
   },
   "source": [
    "#### Drop Duplicates"
   ]
  },
  {
   "cell_type": "code",
   "execution_count": 10,
   "metadata": {
    "colab": {
     "base_uri": "https://localhost:8080/"
    },
    "executionInfo": {
     "elapsed": 14,
     "status": "ok",
     "timestamp": 1669367657280,
     "user": {
      "displayName": "Amar Yasir",
      "userId": "15826574770568818472"
     },
     "user_tz": -480
    },
    "id": "nheQXDbk-r0l",
    "outputId": "639914b8-8405-413d-8897-835a3dbc9843"
   },
   "outputs": [
    {
     "data": {
      "text/plain": [
       "42"
      ]
     },
     "execution_count": 10,
     "metadata": {},
     "output_type": "execute_result"
    }
   ],
   "source": [
    "# detect duplications\n",
    "df.duplicated().sum()"
   ]
  },
  {
   "cell_type": "code",
   "execution_count": 11,
   "metadata": {
    "executionInfo": {
     "elapsed": 14,
     "status": "ok",
     "timestamp": 1669367657281,
     "user": {
      "displayName": "Amar Yasir",
      "userId": "15826574770568818472"
     },
     "user_tz": -480
    },
    "id": "tbeayCGu-xFd"
   },
   "outputs": [],
   "source": [
    "# drop duplications\n",
    "df.drop_duplicates(inplace=True)"
   ]
  },
  {
   "cell_type": "code",
   "execution_count": 12,
   "metadata": {
    "colab": {
     "base_uri": "https://localhost:8080/"
    },
    "executionInfo": {
     "elapsed": 14,
     "status": "ok",
     "timestamp": 1669367657281,
     "user": {
      "displayName": "Amar Yasir",
      "userId": "15826574770568818472"
     },
     "user_tz": -480
    },
    "id": "8HMxSN4Z-xIV",
    "outputId": "e3e19688-238d-48ce-d0f2-8de7a1c4a3ad"
   },
   "outputs": [
    {
     "data": {
      "text/plain": [
       "(565, 11)"
      ]
     },
     "execution_count": 12,
     "metadata": {},
     "output_type": "execute_result"
    }
   ],
   "source": [
    "df.shape"
   ]
  },
  {
   "cell_type": "code",
   "execution_count": null,
   "metadata": {
    "executionInfo": {
     "elapsed": 12,
     "status": "ok",
     "timestamp": 1669367657281,
     "user": {
      "displayName": "Amar Yasir",
      "userId": "15826574770568818472"
     },
     "user_tz": -480
    },
    "id": "1uTs2qiq-xK4"
   },
   "outputs": [],
   "source": []
  },
  {
   "cell_type": "markdown",
   "metadata": {
    "id": "ycNFMBFi_VR8"
   },
   "source": [
    "**Change abbreviations to complete values**\n",
    "\n",
    "The categorical variables contains some abbreviated values; to better understand, let's change them to their original names."
   ]
  },
  {
   "cell_type": "code",
   "execution_count": 13,
   "metadata": {
    "colab": {
     "base_uri": "https://localhost:8080/"
    },
    "executionInfo": {
     "elapsed": 3995,
     "status": "ok",
     "timestamp": 1669367661265,
     "user": {
      "displayName": "Amar Yasir",
      "userId": "15826574770568818472"
     },
     "user_tz": -480
    },
    "id": "1_fbN4IJ_gxL",
    "outputId": "b1f7782f-10d3-49c9-9693-0c3790982e61"
   },
   "outputs": [
    {
     "name": "stdout",
     "output_type": "stream",
     "text": [
      "Requirement already satisfied: country_converter in c:\\users\\3mmar\\anaconda3\\lib\\site-packages (0.8.0)\n",
      "Requirement already satisfied: pandas>=1.0 in c:\\users\\3mmar\\anaconda3\\lib\\site-packages (from country_converter) (1.4.4)\n",
      "Requirement already satisfied: numpy>=1.18.5 in c:\\users\\3mmar\\anaconda3\\lib\\site-packages (from pandas>=1.0->country_converter) (1.21.5)\n",
      "Requirement already satisfied: pytz>=2020.1 in c:\\users\\3mmar\\anaconda3\\lib\\site-packages (from pandas>=1.0->country_converter) (2022.1)\n",
      "Requirement already satisfied: python-dateutil>=2.8.1 in c:\\users\\3mmar\\anaconda3\\lib\\site-packages (from pandas>=1.0->country_converter) (2.8.2)\n",
      "Requirement already satisfied: six>=1.5 in c:\\users\\3mmar\\anaconda3\\lib\\site-packages (from python-dateutil>=2.8.1->pandas>=1.0->country_converter) (1.16.0)\n"
     ]
    }
   ],
   "source": [
    "# change country names from ISO2 to original names\n",
    "# There are two features containing country names, \"company_location\" and \"employee_residence\"\n",
    "!pip install country_converter\n",
    "import country_converter\n",
    "cc = country_converter.CountryConverter()\n",
    "df['company_location'] = cc.convert(df['company_location'], to='name_short')\n",
    "df['employee_residence'] = cc.convert(df['employee_residence'], to='name_short')"
   ]
  },
  {
   "cell_type": "code",
   "execution_count": 14,
   "metadata": {
    "colab": {
     "base_uri": "https://localhost:8080/"
    },
    "executionInfo": {
     "elapsed": 17,
     "status": "ok",
     "timestamp": 1669367661265,
     "user": {
      "displayName": "Amar Yasir",
      "userId": "15826574770568818472"
     },
     "user_tz": -480
    },
    "id": "_V-v_POv_oji",
    "outputId": "95fb0916-b8c0-4784-df6b-d56f96f011ae"
   },
   "outputs": [
    {
     "name": "stdout",
     "output_type": "stream",
     "text": [
      "Unique values of company location column: \n",
      " ['Germany' 'Japan' 'United Kingdom' 'Honduras' 'United States' 'Hungary'\n",
      " 'New Zealand' 'France' 'India' 'Pakistan' 'China' 'Greece'\n",
      " 'United Arab Emirates' 'Netherlands' 'Mexico' 'Canada' 'Austria'\n",
      " 'Nigeria' 'Spain' 'Portugal' 'Denmark' 'Italy' 'Croatia' 'Luxembourg'\n",
      " 'Poland' 'Singapore' 'Romania' 'Iraq' 'Brazil' 'Belgium' 'Ukraine'\n",
      " 'Israel' 'Russia' 'Malta' 'Chile' 'Iran' 'Colombia' 'Moldova' 'Kenya'\n",
      " 'Slovenia' 'Switzerland' 'Vietnam' 'American Samoa' 'Türkiye'\n",
      " 'Czech Republic' 'Algeria' 'Estonia' 'Malaysia' 'Australia' 'Ireland']\n"
     ]
    }
   ],
   "source": [
    "print(\"Unique values of company location column: \\n\",df.company_location.unique())"
   ]
  },
  {
   "cell_type": "code",
   "execution_count": 15,
   "metadata": {
    "colab": {
     "base_uri": "https://localhost:8080/"
    },
    "executionInfo": {
     "elapsed": 16,
     "status": "ok",
     "timestamp": 1669367661266,
     "user": {
      "displayName": "Amar Yasir",
      "userId": "15826574770568818472"
     },
     "user_tz": -480
    },
    "id": "zHgxnLof_olt",
    "outputId": "2e795140-d1c5-4234-de70-6fa6bfe4382f"
   },
   "outputs": [
    {
     "name": "stdout",
     "output_type": "stream",
     "text": [
      "Unique values of employee residence column: \n",
      " ['Germany' 'Japan' 'United Kingdom' 'Honduras' 'United States' 'Hungary'\n",
      " 'New Zealand' 'France' 'India' 'Pakistan' 'Poland' 'Portugal' 'China'\n",
      " 'Greece' 'United Arab Emirates' 'Netherlands' 'Mexico' 'Canada' 'Austria'\n",
      " 'Nigeria' 'Philippines' 'Spain' 'Denmark' 'Russia' 'Italy' 'Croatia'\n",
      " 'Bulgaria' 'Singapore' 'Brazil' 'Iraq' 'Vietnam' 'Belgium' 'Ukraine'\n",
      " 'Malta' 'Chile' 'Romania' 'Iran' 'Colombia' 'Moldova' 'Kenya' 'Slovenia'\n",
      " 'Hong Kong' 'Türkiye' 'Serbia' 'Puerto Rico' 'Luxembourg' 'Jersey'\n",
      " 'Czech Republic' 'Argentina' 'Algeria' 'Tunisia' 'Malaysia' 'Estonia'\n",
      " 'Australia' 'Bolivia' 'Ireland' 'Switzerland']\n"
     ]
    }
   ],
   "source": [
    "print(\"Unique values of employee residence column: \\n\",df.employee_residence.unique())"
   ]
  },
  {
   "cell_type": "code",
   "execution_count": null,
   "metadata": {
    "executionInfo": {
     "elapsed": 14,
     "status": "ok",
     "timestamp": 1669367661266,
     "user": {
      "displayName": "Amar Yasir",
      "userId": "15826574770568818472"
     },
     "user_tz": -480
    },
    "id": "IS0vdRIz_oqC"
   },
   "outputs": [],
   "source": []
  },
  {
   "cell_type": "markdown",
   "metadata": {
    "id": "2USqCaq4CVIB"
   },
   "source": [
    "### Data formating"
   ]
  },
  {
   "cell_type": "code",
   "execution_count": 16,
   "metadata": {
    "colab": {
     "base_uri": "https://localhost:8080/"
    },
    "executionInfo": {
     "elapsed": 15,
     "status": "ok",
     "timestamp": 1669367661267,
     "user": {
      "displayName": "Amar Yasir",
      "userId": "15826574770568818472"
     },
     "user_tz": -480
    },
    "id": "xUTJK1jNCYE-",
    "outputId": "52f9f9f6-a9a3-4ab8-c5dd-d4d94883b456"
   },
   "outputs": [
    {
     "data": {
      "text/plain": [
       "SE    243\n",
       "MI    208\n",
       "EN     88\n",
       "EX     26\n",
       "Name: experience_level, dtype: int64"
      ]
     },
     "execution_count": 16,
     "metadata": {},
     "output_type": "execute_result"
    }
   ],
   "source": [
    "# experience level\n",
    "df['experience_level'].value_counts()"
   ]
  },
  {
   "cell_type": "code",
   "execution_count": 17,
   "metadata": {
    "executionInfo": {
     "elapsed": 12,
     "status": "ok",
     "timestamp": 1669367661267,
     "user": {
      "displayName": "Amar Yasir",
      "userId": "15826574770568818472"
     },
     "user_tz": -480
    },
    "id": "cDY-h21jCfKY"
   },
   "outputs": [],
   "source": [
    "df['experience_level'] = df['experience_level'].map({\n",
    "    'SE': 'Senior',\n",
    "    'MI': 'Mid',\n",
    "    'EN': 'Entry',\n",
    "    'EX': 'Executive'\n",
    "})"
   ]
  },
  {
   "cell_type": "code",
   "execution_count": 18,
   "metadata": {
    "colab": {
     "base_uri": "https://localhost:8080/"
    },
    "executionInfo": {
     "elapsed": 12,
     "status": "ok",
     "timestamp": 1669367661267,
     "user": {
      "displayName": "Amar Yasir",
      "userId": "15826574770568818472"
     },
     "user_tz": -480
    },
    "id": "lT-2FXzdCfMn",
    "outputId": "30977c1f-dd15-42c1-dcb1-0e7fe9807035"
   },
   "outputs": [
    {
     "data": {
      "text/plain": [
       "FT    546\n",
       "PT     10\n",
       "CT      5\n",
       "FL      4\n",
       "Name: employment_type, dtype: int64"
      ]
     },
     "execution_count": 18,
     "metadata": {},
     "output_type": "execute_result"
    }
   ],
   "source": [
    "# employment type\n",
    "df['employment_type'].value_counts()"
   ]
  },
  {
   "cell_type": "code",
   "execution_count": 19,
   "metadata": {
    "executionInfo": {
     "elapsed": 12,
     "status": "ok",
     "timestamp": 1669367661268,
     "user": {
      "displayName": "Amar Yasir",
      "userId": "15826574770568818472"
     },
     "user_tz": -480
    },
    "id": "sXxK0avOCfOo"
   },
   "outputs": [],
   "source": [
    "df['employment_type'] = df['employment_type'].map({\n",
    "    'FT': 'Full-time',\n",
    "    'PT': 'Part-time',\n",
    "    'CT': 'Contract',\n",
    "    'FL': 'Freelance'\n",
    "})"
   ]
  },
  {
   "cell_type": "code",
   "execution_count": 20,
   "metadata": {
    "colab": {
     "base_uri": "https://localhost:8080/"
    },
    "executionInfo": {
     "elapsed": 11,
     "status": "ok",
     "timestamp": 1669367661268,
     "user": {
      "displayName": "Amar Yasir",
      "userId": "15826574770568818472"
     },
     "user_tz": -480
    },
    "id": "YVSyvyjxClso",
    "outputId": "41651a30-8829-46fd-be55-b8ca4cf248e5"
   },
   "outputs": [
    {
     "data": {
      "text/plain": [
       "M    290\n",
       "L    193\n",
       "S     82\n",
       "Name: company_size, dtype: int64"
      ]
     },
     "execution_count": 20,
     "metadata": {},
     "output_type": "execute_result"
    }
   ],
   "source": [
    "# company size\n",
    "df['company_size'].value_counts()"
   ]
  },
  {
   "cell_type": "code",
   "execution_count": 21,
   "metadata": {
    "executionInfo": {
     "elapsed": 10,
     "status": "ok",
     "timestamp": 1669367661268,
     "user": {
      "displayName": "Amar Yasir",
      "userId": "15826574770568818472"
     },
     "user_tz": -480
    },
    "id": "d_nyZln1ClvH"
   },
   "outputs": [],
   "source": [
    "df['company_size'] = df['company_size'].map({\n",
    "    'S': 'Small',\n",
    "    'M': 'Medium',\n",
    "    'L': 'Large'\n",
    "})"
   ]
  },
  {
   "cell_type": "code",
   "execution_count": null,
   "metadata": {
    "executionInfo": {
     "elapsed": 11,
     "status": "ok",
     "timestamp": 1669367661269,
     "user": {
      "displayName": "Amar Yasir",
      "userId": "15826574770568818472"
     },
     "user_tz": -480
    },
    "id": "GCHhHtpuClxf"
   },
   "outputs": [],
   "source": []
  },
  {
   "cell_type": "code",
   "execution_count": 22,
   "metadata": {
    "colab": {
     "base_uri": "https://localhost:8080/",
     "height": 206
    },
    "executionInfo": {
     "elapsed": 12,
     "status": "ok",
     "timestamp": 1669367661270,
     "user": {
      "displayName": "Amar Yasir",
      "userId": "15826574770568818472"
     },
     "user_tz": -480
    },
    "id": "6v_Zqd6wCfRH",
    "outputId": "857163b8-8ced-495c-bd6f-974aa6f72ba1"
   },
   "outputs": [
    {
     "data": {
      "text/html": [
       "<div>\n",
       "<style scoped>\n",
       "    .dataframe tbody tr th:only-of-type {\n",
       "        vertical-align: middle;\n",
       "    }\n",
       "\n",
       "    .dataframe tbody tr th {\n",
       "        vertical-align: top;\n",
       "    }\n",
       "\n",
       "    .dataframe thead th {\n",
       "        text-align: right;\n",
       "    }\n",
       "</style>\n",
       "<table border=\"1\" class=\"dataframe\">\n",
       "  <thead>\n",
       "    <tr style=\"text-align: right;\">\n",
       "      <th></th>\n",
       "      <th>work_year</th>\n",
       "      <th>experience_level</th>\n",
       "      <th>employment_type</th>\n",
       "      <th>job_title</th>\n",
       "      <th>salary</th>\n",
       "      <th>salary_currency</th>\n",
       "      <th>salary_in_usd</th>\n",
       "      <th>employee_residence</th>\n",
       "      <th>remote_ratio</th>\n",
       "      <th>company_location</th>\n",
       "      <th>company_size</th>\n",
       "    </tr>\n",
       "  </thead>\n",
       "  <tbody>\n",
       "    <tr>\n",
       "      <th>0</th>\n",
       "      <td>2020</td>\n",
       "      <td>Mid</td>\n",
       "      <td>Full-time</td>\n",
       "      <td>Data Scientist</td>\n",
       "      <td>70000</td>\n",
       "      <td>EUR</td>\n",
       "      <td>79833</td>\n",
       "      <td>Germany</td>\n",
       "      <td>0</td>\n",
       "      <td>Germany</td>\n",
       "      <td>Large</td>\n",
       "    </tr>\n",
       "    <tr>\n",
       "      <th>1</th>\n",
       "      <td>2020</td>\n",
       "      <td>Senior</td>\n",
       "      <td>Full-time</td>\n",
       "      <td>Machine Learning Scientist</td>\n",
       "      <td>260000</td>\n",
       "      <td>USD</td>\n",
       "      <td>260000</td>\n",
       "      <td>Japan</td>\n",
       "      <td>0</td>\n",
       "      <td>Japan</td>\n",
       "      <td>Small</td>\n",
       "    </tr>\n",
       "    <tr>\n",
       "      <th>2</th>\n",
       "      <td>2020</td>\n",
       "      <td>Senior</td>\n",
       "      <td>Full-time</td>\n",
       "      <td>Big Data Engineer</td>\n",
       "      <td>85000</td>\n",
       "      <td>GBP</td>\n",
       "      <td>109024</td>\n",
       "      <td>United Kingdom</td>\n",
       "      <td>50</td>\n",
       "      <td>United Kingdom</td>\n",
       "      <td>Medium</td>\n",
       "    </tr>\n",
       "    <tr>\n",
       "      <th>3</th>\n",
       "      <td>2020</td>\n",
       "      <td>Mid</td>\n",
       "      <td>Full-time</td>\n",
       "      <td>Product Data Analyst</td>\n",
       "      <td>20000</td>\n",
       "      <td>USD</td>\n",
       "      <td>20000</td>\n",
       "      <td>Honduras</td>\n",
       "      <td>0</td>\n",
       "      <td>Honduras</td>\n",
       "      <td>Small</td>\n",
       "    </tr>\n",
       "    <tr>\n",
       "      <th>4</th>\n",
       "      <td>2020</td>\n",
       "      <td>Senior</td>\n",
       "      <td>Full-time</td>\n",
       "      <td>Machine Learning Engineer</td>\n",
       "      <td>150000</td>\n",
       "      <td>USD</td>\n",
       "      <td>150000</td>\n",
       "      <td>United States</td>\n",
       "      <td>50</td>\n",
       "      <td>United States</td>\n",
       "      <td>Large</td>\n",
       "    </tr>\n",
       "  </tbody>\n",
       "</table>\n",
       "</div>"
      ],
      "text/plain": [
       "   work_year experience_level employment_type                   job_title  \\\n",
       "0       2020              Mid       Full-time              Data Scientist   \n",
       "1       2020           Senior       Full-time  Machine Learning Scientist   \n",
       "2       2020           Senior       Full-time           Big Data Engineer   \n",
       "3       2020              Mid       Full-time        Product Data Analyst   \n",
       "4       2020           Senior       Full-time   Machine Learning Engineer   \n",
       "\n",
       "   salary salary_currency  salary_in_usd employee_residence  remote_ratio  \\\n",
       "0   70000             EUR          79833            Germany             0   \n",
       "1  260000             USD         260000              Japan             0   \n",
       "2   85000             GBP         109024     United Kingdom            50   \n",
       "3   20000             USD          20000           Honduras             0   \n",
       "4  150000             USD         150000      United States            50   \n",
       "\n",
       "  company_location company_size  \n",
       "0          Germany        Large  \n",
       "1            Japan        Small  \n",
       "2   United Kingdom       Medium  \n",
       "3         Honduras        Small  \n",
       "4    United States        Large  "
      ]
     },
     "execution_count": 22,
     "metadata": {},
     "output_type": "execute_result"
    }
   ],
   "source": [
    "df.head()"
   ]
  },
  {
   "cell_type": "code",
   "execution_count": null,
   "metadata": {
    "executionInfo": {
     "elapsed": 11,
     "status": "ok",
     "timestamp": 1669367661833,
     "user": {
      "displayName": "Amar Yasir",
      "userId": "15826574770568818472"
     },
     "user_tz": -480
    },
    "id": "VIhySl-uDLdE"
   },
   "outputs": [],
   "source": []
  },
  {
   "cell_type": "code",
   "execution_count": 23,
   "metadata": {
    "colab": {
     "base_uri": "https://localhost:8080/"
    },
    "executionInfo": {
     "elapsed": 12,
     "status": "ok",
     "timestamp": 1669367661834,
     "user": {
      "displayName": "Amar Yasir",
      "userId": "15826574770568818472"
     },
     "user_tz": -480
    },
    "id": "L9FYbEUMDT7V",
    "outputId": "89a00e35-60d8-4de4-e04e-4716df08b5e3"
   },
   "outputs": [
    {
     "data": {
      "text/plain": [
       "2022    278\n",
       "2021    215\n",
       "2020     72\n",
       "Name: work_year, dtype: int64"
      ]
     },
     "execution_count": 23,
     "metadata": {},
     "output_type": "execute_result"
    }
   ],
   "source": [
    "df['work_year'].value_counts()"
   ]
  },
  {
   "cell_type": "code",
   "execution_count": null,
   "metadata": {
    "executionInfo": {
     "elapsed": 11,
     "status": "ok",
     "timestamp": 1669367661834,
     "user": {
      "displayName": "Amar Yasir",
      "userId": "15826574770568818472"
     },
     "user_tz": -480
    },
    "id": "wqkEluP3DUOd"
   },
   "outputs": [],
   "source": []
  },
  {
   "cell_type": "markdown",
   "metadata": {
    "id": "2AuP7VFoDZho"
   },
   "source": [
    "**Lets explore the ratio of workers working remote**"
   ]
  },
  {
   "cell_type": "code",
   "execution_count": 24,
   "metadata": {
    "colab": {
     "base_uri": "https://localhost:8080/"
    },
    "executionInfo": {
     "elapsed": 11,
     "status": "ok",
     "timestamp": 1669367661834,
     "user": {
      "displayName": "Amar Yasir",
      "userId": "15826574770568818472"
     },
     "user_tz": -480
    },
    "id": "FAKswQNEDUQn",
    "outputId": "00a2cf6e-6f49-4194-f299-897db212f6ac"
   },
   "outputs": [
    {
     "data": {
      "text/plain": [
       "100    346\n",
       "0      121\n",
       "50      98\n",
       "Name: remote_ratio, dtype: int64"
      ]
     },
     "execution_count": 24,
     "metadata": {},
     "output_type": "execute_result"
    }
   ],
   "source": [
    "df['remote_ratio'].value_counts()"
   ]
  },
  {
   "cell_type": "markdown",
   "metadata": {
    "id": "5dxOb3jDDo-c"
   },
   "source": [
    "remote_ratio is expressed in three categorical values: 100 meaning fully-remote, 0 meaning fully-onsite and 50 meaning hybrid."
   ]
  },
  {
   "cell_type": "code",
   "execution_count": 25,
   "metadata": {
    "executionInfo": {
     "elapsed": 10,
     "status": "ok",
     "timestamp": 1669367661835,
     "user": {
      "displayName": "Amar Yasir",
      "userId": "15826574770568818472"
     },
     "user_tz": -480
    },
    "id": "Lx2l8kOoDUTO"
   },
   "outputs": [],
   "source": [
    "# renmame remote_ratio to job_type\n",
    "df.rename(columns={'remote_ratio': 'job_type'}, inplace=True)\n",
    "\n",
    "# change 100 to remote, 0 to onsite, 50 to hybrid\n",
    "df['job_type'] = df['job_type'].map({\n",
    "    100: 'remote',\n",
    "    0: 'onsite',\n",
    "    50: 'hybrid',\n",
    "})"
   ]
  },
  {
   "cell_type": "code",
   "execution_count": null,
   "metadata": {
    "executionInfo": {
     "elapsed": 10,
     "status": "ok",
     "timestamp": 1669367661835,
     "user": {
      "displayName": "Amar Yasir",
      "userId": "15826574770568818472"
     },
     "user_tz": -480
    },
    "id": "r-zWjx4mD896"
   },
   "outputs": [],
   "source": []
  },
  {
   "cell_type": "code",
   "execution_count": 26,
   "metadata": {
    "colab": {
     "base_uri": "https://localhost:8080/"
    },
    "executionInfo": {
     "elapsed": 10,
     "status": "ok",
     "timestamp": 1669367661835,
     "user": {
      "displayName": "Amar Yasir",
      "userId": "15826574770568818472"
     },
     "user_tz": -480
    },
    "id": "L_vdf_pqD9AC",
    "outputId": "80f0b854-85fe-4d81-de13-a24f74302b98"
   },
   "outputs": [
    {
     "data": {
      "text/plain": [
       "remote    346\n",
       "onsite    121\n",
       "hybrid     98\n",
       "Name: job_type, dtype: int64"
      ]
     },
     "execution_count": 26,
     "metadata": {},
     "output_type": "execute_result"
    }
   ],
   "source": [
    "df['job_type'].value_counts()"
   ]
  },
  {
   "cell_type": "code",
   "execution_count": 27,
   "metadata": {
    "colab": {
     "base_uri": "https://localhost:8080/"
    },
    "executionInfo": {
     "elapsed": 8,
     "status": "ok",
     "timestamp": 1669367661835,
     "user": {
      "displayName": "Amar Yasir",
      "userId": "15826574770568818472"
     },
     "user_tz": -480
    },
    "id": "C2I88Ji1D9CS",
    "outputId": "72d64734-b9e4-4725-e2ea-18b06b37f76e"
   },
   "outputs": [
    {
     "data": {
      "text/plain": [
       "Index(['work_year', 'experience_level', 'employment_type', 'job_title',\n",
       "       'salary', 'salary_currency', 'salary_in_usd', 'employee_residence',\n",
       "       'job_type', 'company_location', 'company_size'],\n",
       "      dtype='object')"
      ]
     },
     "execution_count": 27,
     "metadata": {},
     "output_type": "execute_result"
    }
   ],
   "source": [
    "df.columns"
   ]
  },
  {
   "cell_type": "code",
   "execution_count": 28,
   "metadata": {
    "colab": {
     "base_uri": "https://localhost:8080/",
     "height": 206
    },
    "executionInfo": {
     "elapsed": 359,
     "status": "ok",
     "timestamp": 1669367689704,
     "user": {
      "displayName": "Amar Yasir",
      "userId": "15826574770568818472"
     },
     "user_tz": -480
    },
    "id": "6DS9NSLxD9FE",
    "outputId": "6685cf7e-7146-48db-fb7c-a08c6f680245"
   },
   "outputs": [
    {
     "data": {
      "text/html": [
       "<div>\n",
       "<style scoped>\n",
       "    .dataframe tbody tr th:only-of-type {\n",
       "        vertical-align: middle;\n",
       "    }\n",
       "\n",
       "    .dataframe tbody tr th {\n",
       "        vertical-align: top;\n",
       "    }\n",
       "\n",
       "    .dataframe thead th {\n",
       "        text-align: right;\n",
       "    }\n",
       "</style>\n",
       "<table border=\"1\" class=\"dataframe\">\n",
       "  <thead>\n",
       "    <tr style=\"text-align: right;\">\n",
       "      <th></th>\n",
       "      <th>work_year</th>\n",
       "      <th>experience_level</th>\n",
       "      <th>employment_type</th>\n",
       "      <th>job_title</th>\n",
       "      <th>salary</th>\n",
       "      <th>salary_currency</th>\n",
       "      <th>salary_in_usd</th>\n",
       "      <th>employee_residence</th>\n",
       "      <th>job_type</th>\n",
       "      <th>company_location</th>\n",
       "      <th>company_size</th>\n",
       "    </tr>\n",
       "  </thead>\n",
       "  <tbody>\n",
       "    <tr>\n",
       "      <th>0</th>\n",
       "      <td>2020</td>\n",
       "      <td>Mid</td>\n",
       "      <td>Full-time</td>\n",
       "      <td>Data Scientist</td>\n",
       "      <td>70000</td>\n",
       "      <td>EUR</td>\n",
       "      <td>79833</td>\n",
       "      <td>Germany</td>\n",
       "      <td>onsite</td>\n",
       "      <td>Germany</td>\n",
       "      <td>Large</td>\n",
       "    </tr>\n",
       "    <tr>\n",
       "      <th>1</th>\n",
       "      <td>2020</td>\n",
       "      <td>Senior</td>\n",
       "      <td>Full-time</td>\n",
       "      <td>Machine Learning Scientist</td>\n",
       "      <td>260000</td>\n",
       "      <td>USD</td>\n",
       "      <td>260000</td>\n",
       "      <td>Japan</td>\n",
       "      <td>onsite</td>\n",
       "      <td>Japan</td>\n",
       "      <td>Small</td>\n",
       "    </tr>\n",
       "    <tr>\n",
       "      <th>2</th>\n",
       "      <td>2020</td>\n",
       "      <td>Senior</td>\n",
       "      <td>Full-time</td>\n",
       "      <td>Big Data Engineer</td>\n",
       "      <td>85000</td>\n",
       "      <td>GBP</td>\n",
       "      <td>109024</td>\n",
       "      <td>United Kingdom</td>\n",
       "      <td>hybrid</td>\n",
       "      <td>United Kingdom</td>\n",
       "      <td>Medium</td>\n",
       "    </tr>\n",
       "    <tr>\n",
       "      <th>3</th>\n",
       "      <td>2020</td>\n",
       "      <td>Mid</td>\n",
       "      <td>Full-time</td>\n",
       "      <td>Product Data Analyst</td>\n",
       "      <td>20000</td>\n",
       "      <td>USD</td>\n",
       "      <td>20000</td>\n",
       "      <td>Honduras</td>\n",
       "      <td>onsite</td>\n",
       "      <td>Honduras</td>\n",
       "      <td>Small</td>\n",
       "    </tr>\n",
       "    <tr>\n",
       "      <th>4</th>\n",
       "      <td>2020</td>\n",
       "      <td>Senior</td>\n",
       "      <td>Full-time</td>\n",
       "      <td>Machine Learning Engineer</td>\n",
       "      <td>150000</td>\n",
       "      <td>USD</td>\n",
       "      <td>150000</td>\n",
       "      <td>United States</td>\n",
       "      <td>hybrid</td>\n",
       "      <td>United States</td>\n",
       "      <td>Large</td>\n",
       "    </tr>\n",
       "  </tbody>\n",
       "</table>\n",
       "</div>"
      ],
      "text/plain": [
       "   work_year experience_level employment_type                   job_title  \\\n",
       "0       2020              Mid       Full-time              Data Scientist   \n",
       "1       2020           Senior       Full-time  Machine Learning Scientist   \n",
       "2       2020           Senior       Full-time           Big Data Engineer   \n",
       "3       2020              Mid       Full-time        Product Data Analyst   \n",
       "4       2020           Senior       Full-time   Machine Learning Engineer   \n",
       "\n",
       "   salary salary_currency  salary_in_usd employee_residence job_type  \\\n",
       "0   70000             EUR          79833            Germany   onsite   \n",
       "1  260000             USD         260000              Japan   onsite   \n",
       "2   85000             GBP         109024     United Kingdom   hybrid   \n",
       "3   20000             USD          20000           Honduras   onsite   \n",
       "4  150000             USD         150000      United States   hybrid   \n",
       "\n",
       "  company_location company_size  \n",
       "0          Germany        Large  \n",
       "1            Japan        Small  \n",
       "2   United Kingdom       Medium  \n",
       "3         Honduras        Small  \n",
       "4    United States        Large  "
      ]
     },
     "execution_count": 28,
     "metadata": {},
     "output_type": "execute_result"
    }
   ],
   "source": [
    "df.head()"
   ]
  },
  {
   "cell_type": "code",
   "execution_count": null,
   "metadata": {
    "executionInfo": {
     "elapsed": 6,
     "status": "ok",
     "timestamp": 1669367661836,
     "user": {
      "displayName": "Amar Yasir",
      "userId": "15826574770568818472"
     },
     "user_tz": -480
    },
    "id": "hKVfw8rqDUVt"
   },
   "outputs": [],
   "source": []
  },
  {
   "cell_type": "code",
   "execution_count": 29,
   "metadata": {
    "colab": {
     "base_uri": "https://localhost:8080/"
    },
    "executionInfo": {
     "elapsed": 318,
     "status": "ok",
     "timestamp": 1669372238471,
     "user": {
      "displayName": "Amar Yasir",
      "userId": "15826574770568818472"
     },
     "user_tz": -480
    },
    "id": "WC9GRguZEy-Y",
    "outputId": "2c4e3422-44c6-4a89-f6cc-3d2b5e8a49c1"
   },
   "outputs": [
    {
     "data": {
      "text/plain": [
       "work_year             0\n",
       "experience_level      0\n",
       "employment_type       0\n",
       "job_title             0\n",
       "salary                0\n",
       "salary_currency       0\n",
       "salary_in_usd         0\n",
       "employee_residence    0\n",
       "job_type              0\n",
       "company_location      0\n",
       "company_size          0\n",
       "dtype: int64"
      ]
     },
     "execution_count": 29,
     "metadata": {},
     "output_type": "execute_result"
    }
   ],
   "source": [
    "df.isnull().sum()"
   ]
  },
  {
   "cell_type": "code",
   "execution_count": 30,
   "metadata": {
    "executionInfo": {
     "elapsed": 2,
     "status": "ok",
     "timestamp": 1669369282393,
     "user": {
      "displayName": "Amar Yasir",
      "userId": "15826574770568818472"
     },
     "user_tz": -480
    },
    "id": "bT4SGZtkIn4n"
   },
   "outputs": [
    {
     "data": {
      "text/html": [
       "<div>\n",
       "<style scoped>\n",
       "    .dataframe tbody tr th:only-of-type {\n",
       "        vertical-align: middle;\n",
       "    }\n",
       "\n",
       "    .dataframe tbody tr th {\n",
       "        vertical-align: top;\n",
       "    }\n",
       "\n",
       "    .dataframe thead th {\n",
       "        text-align: right;\n",
       "    }\n",
       "</style>\n",
       "<table border=\"1\" class=\"dataframe\">\n",
       "  <thead>\n",
       "    <tr style=\"text-align: right;\">\n",
       "      <th></th>\n",
       "      <th>work_year</th>\n",
       "      <th>experience_level</th>\n",
       "      <th>employment_type</th>\n",
       "      <th>job_title</th>\n",
       "      <th>salary</th>\n",
       "      <th>salary_currency</th>\n",
       "      <th>salary_in_usd</th>\n",
       "      <th>employee_residence</th>\n",
       "      <th>job_type</th>\n",
       "      <th>company_location</th>\n",
       "      <th>company_size</th>\n",
       "    </tr>\n",
       "  </thead>\n",
       "  <tbody>\n",
       "    <tr>\n",
       "      <th>0</th>\n",
       "      <td>2020</td>\n",
       "      <td>Mid</td>\n",
       "      <td>Full-time</td>\n",
       "      <td>Data Scientist</td>\n",
       "      <td>70000</td>\n",
       "      <td>EUR</td>\n",
       "      <td>79833</td>\n",
       "      <td>Germany</td>\n",
       "      <td>onsite</td>\n",
       "      <td>Germany</td>\n",
       "      <td>Large</td>\n",
       "    </tr>\n",
       "    <tr>\n",
       "      <th>1</th>\n",
       "      <td>2020</td>\n",
       "      <td>Senior</td>\n",
       "      <td>Full-time</td>\n",
       "      <td>Machine Learning Scientist</td>\n",
       "      <td>260000</td>\n",
       "      <td>USD</td>\n",
       "      <td>260000</td>\n",
       "      <td>Japan</td>\n",
       "      <td>onsite</td>\n",
       "      <td>Japan</td>\n",
       "      <td>Small</td>\n",
       "    </tr>\n",
       "    <tr>\n",
       "      <th>2</th>\n",
       "      <td>2020</td>\n",
       "      <td>Senior</td>\n",
       "      <td>Full-time</td>\n",
       "      <td>Big Data Engineer</td>\n",
       "      <td>85000</td>\n",
       "      <td>GBP</td>\n",
       "      <td>109024</td>\n",
       "      <td>United Kingdom</td>\n",
       "      <td>hybrid</td>\n",
       "      <td>United Kingdom</td>\n",
       "      <td>Medium</td>\n",
       "    </tr>\n",
       "    <tr>\n",
       "      <th>3</th>\n",
       "      <td>2020</td>\n",
       "      <td>Mid</td>\n",
       "      <td>Full-time</td>\n",
       "      <td>Product Data Analyst</td>\n",
       "      <td>20000</td>\n",
       "      <td>USD</td>\n",
       "      <td>20000</td>\n",
       "      <td>Honduras</td>\n",
       "      <td>onsite</td>\n",
       "      <td>Honduras</td>\n",
       "      <td>Small</td>\n",
       "    </tr>\n",
       "    <tr>\n",
       "      <th>4</th>\n",
       "      <td>2020</td>\n",
       "      <td>Senior</td>\n",
       "      <td>Full-time</td>\n",
       "      <td>Machine Learning Engineer</td>\n",
       "      <td>150000</td>\n",
       "      <td>USD</td>\n",
       "      <td>150000</td>\n",
       "      <td>United States</td>\n",
       "      <td>hybrid</td>\n",
       "      <td>United States</td>\n",
       "      <td>Large</td>\n",
       "    </tr>\n",
       "    <tr>\n",
       "      <th>...</th>\n",
       "      <td>...</td>\n",
       "      <td>...</td>\n",
       "      <td>...</td>\n",
       "      <td>...</td>\n",
       "      <td>...</td>\n",
       "      <td>...</td>\n",
       "      <td>...</td>\n",
       "      <td>...</td>\n",
       "      <td>...</td>\n",
       "      <td>...</td>\n",
       "      <td>...</td>\n",
       "    </tr>\n",
       "    <tr>\n",
       "      <th>602</th>\n",
       "      <td>2022</td>\n",
       "      <td>Senior</td>\n",
       "      <td>Full-time</td>\n",
       "      <td>Data Engineer</td>\n",
       "      <td>154000</td>\n",
       "      <td>USD</td>\n",
       "      <td>154000</td>\n",
       "      <td>United States</td>\n",
       "      <td>remote</td>\n",
       "      <td>United States</td>\n",
       "      <td>Medium</td>\n",
       "    </tr>\n",
       "    <tr>\n",
       "      <th>603</th>\n",
       "      <td>2022</td>\n",
       "      <td>Senior</td>\n",
       "      <td>Full-time</td>\n",
       "      <td>Data Engineer</td>\n",
       "      <td>126000</td>\n",
       "      <td>USD</td>\n",
       "      <td>126000</td>\n",
       "      <td>United States</td>\n",
       "      <td>remote</td>\n",
       "      <td>United States</td>\n",
       "      <td>Medium</td>\n",
       "    </tr>\n",
       "    <tr>\n",
       "      <th>604</th>\n",
       "      <td>2022</td>\n",
       "      <td>Senior</td>\n",
       "      <td>Full-time</td>\n",
       "      <td>Data Analyst</td>\n",
       "      <td>129000</td>\n",
       "      <td>USD</td>\n",
       "      <td>129000</td>\n",
       "      <td>United States</td>\n",
       "      <td>onsite</td>\n",
       "      <td>United States</td>\n",
       "      <td>Medium</td>\n",
       "    </tr>\n",
       "    <tr>\n",
       "      <th>605</th>\n",
       "      <td>2022</td>\n",
       "      <td>Senior</td>\n",
       "      <td>Full-time</td>\n",
       "      <td>Data Analyst</td>\n",
       "      <td>150000</td>\n",
       "      <td>USD</td>\n",
       "      <td>150000</td>\n",
       "      <td>United States</td>\n",
       "      <td>remote</td>\n",
       "      <td>United States</td>\n",
       "      <td>Medium</td>\n",
       "    </tr>\n",
       "    <tr>\n",
       "      <th>606</th>\n",
       "      <td>2022</td>\n",
       "      <td>Mid</td>\n",
       "      <td>Full-time</td>\n",
       "      <td>AI Scientist</td>\n",
       "      <td>200000</td>\n",
       "      <td>USD</td>\n",
       "      <td>200000</td>\n",
       "      <td>India</td>\n",
       "      <td>remote</td>\n",
       "      <td>United States</td>\n",
       "      <td>Large</td>\n",
       "    </tr>\n",
       "  </tbody>\n",
       "</table>\n",
       "<p>565 rows × 11 columns</p>\n",
       "</div>"
      ],
      "text/plain": [
       "     work_year experience_level employment_type                   job_title  \\\n",
       "0         2020              Mid       Full-time              Data Scientist   \n",
       "1         2020           Senior       Full-time  Machine Learning Scientist   \n",
       "2         2020           Senior       Full-time           Big Data Engineer   \n",
       "3         2020              Mid       Full-time        Product Data Analyst   \n",
       "4         2020           Senior       Full-time   Machine Learning Engineer   \n",
       "..         ...              ...             ...                         ...   \n",
       "602       2022           Senior       Full-time               Data Engineer   \n",
       "603       2022           Senior       Full-time               Data Engineer   \n",
       "604       2022           Senior       Full-time                Data Analyst   \n",
       "605       2022           Senior       Full-time                Data Analyst   \n",
       "606       2022              Mid       Full-time                AI Scientist   \n",
       "\n",
       "     salary salary_currency  salary_in_usd employee_residence job_type  \\\n",
       "0     70000             EUR          79833            Germany   onsite   \n",
       "1    260000             USD         260000              Japan   onsite   \n",
       "2     85000             GBP         109024     United Kingdom   hybrid   \n",
       "3     20000             USD          20000           Honduras   onsite   \n",
       "4    150000             USD         150000      United States   hybrid   \n",
       "..      ...             ...            ...                ...      ...   \n",
       "602  154000             USD         154000      United States   remote   \n",
       "603  126000             USD         126000      United States   remote   \n",
       "604  129000             USD         129000      United States   onsite   \n",
       "605  150000             USD         150000      United States   remote   \n",
       "606  200000             USD         200000              India   remote   \n",
       "\n",
       "    company_location company_size  \n",
       "0            Germany        Large  \n",
       "1              Japan        Small  \n",
       "2     United Kingdom       Medium  \n",
       "3           Honduras        Small  \n",
       "4      United States        Large  \n",
       "..               ...          ...  \n",
       "602    United States       Medium  \n",
       "603    United States       Medium  \n",
       "604    United States       Medium  \n",
       "605    United States       Medium  \n",
       "606    United States        Large  \n",
       "\n",
       "[565 rows x 11 columns]"
      ]
     },
     "execution_count": 30,
     "metadata": {},
     "output_type": "execute_result"
    }
   ],
   "source": [
    "df.fillna(df.mode())"
   ]
  },
  {
   "cell_type": "code",
   "execution_count": null,
   "metadata": {},
   "outputs": [],
   "source": []
  },
  {
   "cell_type": "markdown",
   "metadata": {},
   "source": [
    "**Save Clean dataframe as a new csv file**"
   ]
  },
  {
   "cell_type": "code",
   "execution_count": 31,
   "metadata": {},
   "outputs": [],
   "source": [
    "df.to_csv('cleaned.csv')"
   ]
  },
  {
   "cell_type": "code",
   "execution_count": null,
   "metadata": {},
   "outputs": [],
   "source": []
  },
  {
   "cell_type": "markdown",
   "metadata": {
    "id": "_vKBZDccEavJ",
    "tags": []
   },
   "source": [
    "## Descriptive Statistics"
   ]
  },
  {
   "cell_type": "markdown",
   "metadata": {
    "id": "sPPgUoxbGgjw"
   },
   "source": [
    "**Salary distribution**"
   ]
  },
  {
   "cell_type": "code",
   "execution_count": 32,
   "metadata": {
    "colab": {
     "base_uri": "https://localhost:8080/",
     "height": 315
    },
    "executionInfo": {
     "elapsed": 467,
     "status": "ok",
     "timestamp": 1669371107426,
     "user": {
      "displayName": "Amar Yasir",
      "userId": "15826574770568818472"
     },
     "user_tz": -480
    },
    "id": "eCK64Pj8Efwe",
    "outputId": "02e944d5-ee62-44d0-b911-757d7c03463e"
   },
   "outputs": [
    {
     "data": {
      "text/plain": [
       "Text(0.5, 1.0, 'Salary Distribution')"
      ]
     },
     "execution_count": 32,
     "metadata": {},
     "output_type": "execute_result"
    },
    {
     "data": {
      "image/png": "[encoded data removed]",
      "text/plain": [
       "<Figure size 640x480 with 1 Axes>"
      ]
     },
     "metadata": {},
     "output_type": "display_data"
    }
   ],
   "source": [
    "sns.set_palette('summer')\n",
    "ax = sns.histplot(data=df, x=\"salary_in_usd\", kde=True)\n",
    "ax.set_title('Salary Distribution', fontdict={'fontsize': 16})"
   ]
  },
  {
   "cell_type": "markdown",
   "metadata": {
    "id": "7xJldcPrGBhK"
   },
   "source": [
    "Really few people are earning a salary of more than $300,000"
   ]
  },
  {
   "cell_type": "code",
   "execution_count": null,
   "metadata": {},
   "outputs": [],
   "source": []
  },
  {
   "cell_type": "markdown",
   "metadata": {},
   "source": [
    "**Measures of Central Tendency**"
   ]
  },
  {
   "cell_type": "code",
   "execution_count": 39,
   "metadata": {},
   "outputs": [],
   "source": [
    "mean = df['salary_in_usd'].mean()"
   ]
  },
  {
   "cell_type": "code",
   "execution_count": 40,
   "metadata": {},
   "outputs": [],
   "source": [
    "median = df['salary_in_usd'].median()"
   ]
  },
  {
   "cell_type": "code",
   "execution_count": 41,
   "metadata": {},
   "outputs": [],
   "source": [
    "mode = stats.mode(df['salary_in_usd'])"
   ]
  },
  {
   "cell_type": "code",
   "execution_count": 42,
   "metadata": {},
   "outputs": [
    {
     "name": "stdout",
     "output_type": "stream",
     "text": [
      "Measures of Central Tendency\n",
      "==============================\n",
      "mean  :  110610.34336283186\n",
      "median:  100000.0\n",
      "mode  :  100000\n"
     ]
    }
   ],
   "source": [
    "print('Measures of Central Tendency')\n",
    "print('=' * 30)\n",
    "print('mean  : ', mean)\n",
    "print('median: ', median)\n",
    "print('mode  : ', mode)"
   ]
  },
  {
   "cell_type": "code",
   "execution_count": 43,
   "metadata": {},
   "outputs": [
    {
     "data": {
      "image/png": "[encoded data removed]",
      "text/plain": [
       "<Figure size 1000x200 with 1 Axes>"
      ]
     },
     "metadata": {},
     "output_type": "display_data"
    }
   ],
   "source": [
    "plt.figure(figsize=(10, 2))\n",
    "ax = sns.boxplot(data=df['salary_in_usd'], orient=\"h\", palette=\"Set2\")"
   ]
  },
  {
   "cell_type": "code",
   "execution_count": null,
   "metadata": {},
   "outputs": [],
   "source": []
  },
  {
   "cell_type": "markdown",
   "metadata": {},
   "source": [
    "**Measures of Variability**"
   ]
  },
  {
   "cell_type": "code",
   "execution_count": 44,
   "metadata": {},
   "outputs": [],
   "source": [
    "variance = stats.variance(df['salary_in_usd'])"
   ]
  },
  {
   "cell_type": "code",
   "execution_count": 45,
   "metadata": {},
   "outputs": [],
   "source": [
    "std = stats.stdev(df['salary_in_usd'])"
   ]
  },
  {
   "cell_type": "code",
   "execution_count": 46,
   "metadata": {},
   "outputs": [],
   "source": [
    "skew = df['salary_in_usd'].skew()"
   ]
  },
  {
   "cell_type": "code",
   "execution_count": 47,
   "metadata": {},
   "outputs": [],
   "source": [
    "quantile = df['salary_in_usd'].quantile([0.25, 0.5, 0.75, 1])"
   ]
  },
  {
   "cell_type": "code",
   "execution_count": 48,
   "metadata": {},
   "outputs": [
    {
     "name": "stdout",
     "output_type": "stream",
     "text": [
      "Measures of Variability\n",
      "========================================\n",
      "Variance          :  5224499996.091113\n",
      "Standard deviation:  72280.70279190091\n",
      "Skewness          :  1.7328374573354977\n",
      "========================================\n",
      "1st Percentiles :  60757.0\n",
      "2nd Percentiles :  100000.0\n",
      "3rd Percentiles :  150000.0\n",
      "4th Percentiles :  600000.0\n"
     ]
    }
   ],
   "source": [
    "print('Measures of Variability')\n",
    "print('=' * 40)\n",
    "print('Variance          : ', variance)\n",
    "print('Standard deviation: ', std)\n",
    "print('Skewness          : ', skew)\n",
    "\n",
    "print('=' * 40)\n",
    "print('1st Percentiles : ', quantile[0.25])\n",
    "print('2nd Percentiles : ', quantile[0.5])\n",
    "print('3rd Percentiles : ', quantile[0.75])\n",
    "print('4th Percentiles : ', quantile[1])"
   ]
  },
  {
   "cell_type": "code",
   "execution_count": 49,
   "metadata": {},
   "outputs": [
    {
     "data": {
      "image/png": "[encoded data removed]",
      "text/plain": [
       "<Figure size 640x480 with 1 Axes>"
      ]
     },
     "metadata": {},
     "output_type": "display_data"
    },
    {
     "data": {
      "text/plain": [
       "<Figure size 800x600 with 0 Axes>"
      ]
     },
     "metadata": {},
     "output_type": "display_data"
    }
   ],
   "source": [
    "sns.set_palette('Set2')\n",
    "\n",
    "sns.histplot(x='salary_in_usd', data=df, kde=True, hue='experience_level',bins=50)\n",
    "plt.show()\n",
    "\n",
    "exp_levels = df['experience_level'].value_counts()\n",
    "plt.figure(figsize = (8, 6), )\n",
    "explode = (0.1, 0, 0,0)\n",
    "colors = ['#ffb366', '#8FBAFB', '#b3ffb3', '#ff6666']\n",
    "\n",
    "plt.show()"
   ]
  },
  {
   "cell_type": "code",
   "execution_count": null,
   "metadata": {},
   "outputs": [],
   "source": []
  },
  {
   "cell_type": "markdown",
   "metadata": {},
   "source": [
    "## Exploratory Data Analysis"
   ]
  },
  {
   "cell_type": "markdown",
   "metadata": {
    "id": "x7jCHhewIHWS"
   },
   "source": [
    "**Jobs Market Size for the Past 3 years**"
   ]
  },
  {
   "cell_type": "code",
   "execution_count": 50,
   "metadata": {
    "colab": {
     "base_uri": "https://localhost:8080/",
     "height": 521
    },
    "executionInfo": {
     "elapsed": 349,
     "status": "ok",
     "timestamp": 1669371551649,
     "user": {
      "displayName": "Amar Yasir",
      "userId": "15826574770568818472"
     },
     "user_tz": -480
    },
    "id": "EXDDODTKIHdh",
    "outputId": "0b3c9f02-e425-4109-8d86-3beae8972af6"
   },
   "outputs": [
    {
     "data": {
      "text/plain": [
       "Text(0.5, 1.0, 'Count of Jobs by Year')"
      ]
     },
     "execution_count": 50,
     "metadata": {},
     "output_type": "execute_result"
    },
    {
     "data": {
      "image/png": "[encoded data removed]",
      "text/plain": [
       "<Figure size 1400x700 with 1 Axes>"
      ]
     },
     "metadata": {},
     "output_type": "display_data"
    }
   ],
   "source": [
    "plt.figure(figsize=(14, 7))\n",
    "sns.set_palette('winter')\n",
    "\n",
    "year = df['work_year'].value_counts()\n",
    "\n",
    "plt.subplot(1, 2, 1)\n",
    "fig = sns.barplot(x = year.index, y = year.values)\n",
    "fig.set_title('Count of Jobs by Year', fontdict={'fontsize': 18})"
   ]
  },
  {
   "cell_type": "code",
   "execution_count": null,
   "metadata": {
    "id": "s70S2UO2IHhx"
   },
   "outputs": [],
   "source": []
  },
  {
   "cell_type": "markdown",
   "metadata": {
    "id": "Kb7uf69oGdAh"
   },
   "source": [
    "**Salary VS experience level**"
   ]
  },
  {
   "cell_type": "code",
   "execution_count": 51,
   "metadata": {
    "colab": {
     "base_uri": "https://localhost:8080/"
    },
    "executionInfo": {
     "elapsed": 881,
     "status": "ok",
     "timestamp": 1669371132977,
     "user": {
      "displayName": "Amar Yasir",
      "userId": "15826574770568818472"
     },
     "user_tz": -480
    },
    "id": "rUFESmq4GMDZ",
    "outputId": "9ed83c80-3c21-4171-fbab-c97ce951df62"
   },
   "outputs": [
    {
     "data": {
      "text/plain": [
       "experience_level\n",
       "Entry         61643.318182\n",
       "Mid           87792.995192\n",
       "Senior       138374.880658\n",
       "Executive    199392.038462\n",
       "Name: salary_in_usd, dtype: float64"
      ]
     },
     "execution_count": 51,
     "metadata": {},
     "output_type": "execute_result"
    }
   ],
   "source": [
    "# mean salary of employees with different experience levels\n",
    "mean_s_exp_lv = df.groupby('experience_level')['salary_in_usd'].mean().sort_values()\n",
    "mean_s_exp_lv"
   ]
  },
  {
   "cell_type": "code",
   "execution_count": 52,
   "metadata": {
    "colab": {
     "base_uri": "https://localhost:8080/",
     "height": 479
    },
    "executionInfo": {
     "elapsed": 1803,
     "status": "ok",
     "timestamp": 1669369383990,
     "user": {
      "displayName": "Amar Yasir",
      "userId": "15826574770568818472"
     },
     "user_tz": -480
    },
    "id": "HL5DA2SKGMF5",
    "outputId": "f4f0377b-948c-428b-b131-7f69979c20c2"
   },
   "outputs": [
    {
     "data": {
      "text/plain": [
       "Text(0.5, 1.0, 'Experience Level VS Salary')"
      ]
     },
     "execution_count": 52,
     "metadata": {},
     "output_type": "execute_result"
    },
    {
     "data": {
      "image/png": "[encoded data removed]",
      "text/plain": [
       "<Figure size 1400x700 with 2 Axes>"
      ]
     },
     "metadata": {},
     "output_type": "display_data"
    }
   ],
   "source": [
    "plt.figure(figsize=(14, 7))\n",
    "sns.set_palette('Set2')\n",
    "\n",
    "plt.subplot(1, 2, 1)\n",
    "ax = sns.barplot(x=mean_s_exp_lv.index, y=mean_s_exp_lv)\n",
    "ax.set_title('Mean Salary Vs Experience Level', fontdict={'fontsize': 16})\n",
    "\n",
    "plt.subplot(1, 2, 2)\n",
    "ax = sns.violinplot(data=df, x='experience_level', y='salary_in_usd')\n",
    "ax.set_title('Experience Level VS Salary', fontdict={'fontsize': 16})"
   ]
  },
  {
   "cell_type": "markdown",
   "metadata": {
    "id": "eaG7dKhzHBmd"
   },
   "source": [
    "**Experience Level VS Salary:**\n",
    "\n",
    "It can be observed that the data scientists with Executive  experience have the highest mean salary of about 200,000 USD annualy, while Entry level data scientists have the lowest mean salary of about 60,000 USD."
   ]
  },
  {
   "cell_type": "code",
   "execution_count": null,
   "metadata": {
    "id": "KvYkapczGMH5"
   },
   "outputs": [],
   "source": []
  },
  {
   "cell_type": "markdown",
   "metadata": {
    "id": "OmyG2hfBLrdh"
   },
   "source": [
    "**Salary VS Employment Type**"
   ]
  },
  {
   "cell_type": "code",
   "execution_count": 53,
   "metadata": {
    "colab": {
     "base_uri": "https://localhost:8080/"
    },
    "executionInfo": {
     "elapsed": 339,
     "status": "ok",
     "timestamp": 1669369630710,
     "user": {
      "displayName": "Amar Yasir",
      "userId": "15826574770568818472"
     },
     "user_tz": -480
    },
    "id": "Qvwl1c1-GMKR",
    "outputId": "0a788d79-0c3e-4a13-ef82-0461861ada81"
   },
   "outputs": [
    {
     "data": {
      "text/plain": [
       "employment_type\n",
       "Part-time     33070.500000\n",
       "Freelance     48000.000000\n",
       "Full-time    111811.838828\n",
       "Contract     184575.000000\n",
       "Name: salary_in_usd, dtype: float64"
      ]
     },
     "execution_count": 53,
     "metadata": {},
     "output_type": "execute_result"
    }
   ],
   "source": [
    "# mean salary of employees with different employment types\n",
    "mean_s_emp_type = df.groupby('employment_type')['salary_in_usd'].mean().sort_values()\n",
    "mean_s_emp_type"
   ]
  },
  {
   "cell_type": "code",
   "execution_count": 54,
   "metadata": {
    "colab": {
     "base_uri": "https://localhost:8080/",
     "height": 479
    },
    "executionInfo": {
     "elapsed": 842,
     "status": "ok",
     "timestamp": 1669369867646,
     "user": {
      "displayName": "Amar Yasir",
      "userId": "15826574770568818472"
     },
     "user_tz": -480
    },
    "id": "OiSBCWg_LxEh",
    "outputId": "fc0f526b-462a-4521-a5cd-c60d724c173d"
   },
   "outputs": [
    {
     "data": {
      "text/plain": [
       "Text(0.5, 1.0, 'Employment Type VS Salary')"
      ]
     },
     "execution_count": 54,
     "metadata": {},
     "output_type": "execute_result"
    },
    {
     "data": {
      "image/png": "[encoded data removed]",
      "text/plain": [
       "<Figure size 1400x700 with 2 Axes>"
      ]
     },
     "metadata": {},
     "output_type": "display_data"
    }
   ],
   "source": [
    "plt.figure(figsize=(14, 7))\n",
    "sns.set_palette('Set2')\n",
    "\n",
    "plt.subplot(1, 2, 1)\n",
    "ax = sns.barplot(x=mean_s_emp_type.index, y=mean_s_emp_type)\n",
    "ax.set_title('Mean Salary Vs Employment Type', fontdict={'fontsize': 16})\n",
    "\n",
    "plt.subplot(1, 2, 2)\n",
    "ax = sns.boxplot(data=df, x='employment_type', y='salary_in_usd')\n",
    "ax.set_title('Employment Type VS Salary', fontdict={'fontsize': 16})"
   ]
  },
  {
   "cell_type": "markdown",
   "metadata": {
    "id": "zOEjLQbXL8C5"
   },
   "source": [
    "**Employment Type VS Salary:**\n",
    "\n",
    "Lookin gat the graphs above, data scientists employment who are contract employment_type have the highest mean salary of about 180,000 USD, while those working part-time have the lowest mean salary of about 30,000 USD annualy."
   ]
  },
  {
   "cell_type": "code",
   "execution_count": null,
   "metadata": {
    "id": "_J6R_KhwLxJT"
   },
   "outputs": [],
   "source": []
  },
  {
   "cell_type": "markdown",
   "metadata": {
    "id": "Van2QOHcM34e"
   },
   "source": [
    "**Percentage of Jobs by Company Size**"
   ]
  },
  {
   "cell_type": "code",
   "execution_count": 55,
   "metadata": {
    "colab": {
     "base_uri": "https://localhost:8080/",
     "height": 427
    },
    "executionInfo": {
     "elapsed": 640,
     "status": "ok",
     "timestamp": 1669371595633,
     "user": {
      "displayName": "Amar Yasir",
      "userId": "15826574770568818472"
     },
     "user_tz": -480
    },
    "id": "OUBimJ1fLxLi",
    "outputId": "8d3f0a19-0e26-40bd-82d6-e90533b777b4"
   },
   "outputs": [
    {
     "data": {
      "image/png": "[encoded data removed]",
      "text/plain": [
       "<Figure size 1400x700 with 1 Axes>"
      ]
     },
     "metadata": {},
     "output_type": "display_data"
    }
   ],
   "source": [
    "plt.figure(figsize=(14, 7))\n",
    "\n",
    "size_c = df['company_size'].value_counts()\n",
    "fig= plt.pie(size_c, autopct='%1.1f%%', labels=size_c.index)\n",
    "plt.title('Percentage of Jobs by Company Size')\n",
    "\n",
    "# add a circle at the center to transform it in a donut chart\n",
    "my_circle=plt.Circle( (0,0), 0.7, color='white')\n",
    "p=plt.gcf()\n",
    "p.gca().add_artist(my_circle)\n",
    "\n",
    "plt.show()"
   ]
  },
  {
   "cell_type": "code",
   "execution_count": null,
   "metadata": {
    "executionInfo": {
     "elapsed": 2,
     "status": "ok",
     "timestamp": 1669371308188,
     "user": {
      "displayName": "Amar Yasir",
      "userId": "15826574770568818472"
     },
     "user_tz": -480
    },
    "id": "nH1PJuHUGMMb"
   },
   "outputs": [],
   "source": []
  },
  {
   "cell_type": "markdown",
   "metadata": {
    "id": "pYrYd83tQPlW"
   },
   "source": [
    "**Salary VS Company Size**"
   ]
  },
  {
   "cell_type": "code",
   "execution_count": 56,
   "metadata": {
    "colab": {
     "base_uri": "https://localhost:8080/"
    },
    "executionInfo": {
     "elapsed": 2,
     "status": "ok",
     "timestamp": 1669371314801,
     "user": {
      "displayName": "Amar Yasir",
      "userId": "15826574770568818472"
     },
     "user_tz": -480
    },
    "id": "iTZrYBF5QS0d",
    "outputId": "134442fc-acba-4159-d772-55430d033a16"
   },
   "outputs": [
    {
     "data": {
      "text/plain": [
       "company_size\n",
       "Small      77872.097561\n",
       "Medium    114807.079310\n",
       "Large     118213.880829\n",
       "Name: salary_in_usd, dtype: float64"
      ]
     },
     "execution_count": 56,
     "metadata": {},
     "output_type": "execute_result"
    }
   ],
   "source": [
    "# mean salary of employees from different company sizes\n",
    "mean_s_cmp_size = df.groupby('company_size')['salary_in_usd'].mean().sort_values()\n",
    "mean_s_cmp_size"
   ]
  },
  {
   "cell_type": "code",
   "execution_count": 57,
   "metadata": {
    "colab": {
     "base_uri": "https://localhost:8080/",
     "height": 479
    },
    "executionInfo": {
     "elapsed": 727,
     "status": "ok",
     "timestamp": 1669371315926,
     "user": {
      "displayName": "Amar Yasir",
      "userId": "15826574770568818472"
     },
     "user_tz": -480
    },
    "id": "cyoiy5yYQWWO",
    "outputId": "a75ea735-f0d1-4c42-882b-36211f16e285"
   },
   "outputs": [
    {
     "data": {
      "text/plain": [
       "Text(0.5, 1.0, 'Company Size VS Salary')"
      ]
     },
     "execution_count": 57,
     "metadata": {},
     "output_type": "execute_result"
    },
    {
     "data": {
      "image/png": "[encoded data removed]",
      "text/plain": [
       "<Figure size 1400x700 with 2 Axes>"
      ]
     },
     "metadata": {},
     "output_type": "display_data"
    }
   ],
   "source": [
    "plt.figure(figsize=(14, 7))\n",
    "sns.set_palette('Set2')\n",
    "\n",
    "plt.subplot(1, 2, 1)\n",
    "ax = sns.barplot(x=mean_s_cmp_size.index, y=mean_s_cmp_size)\n",
    "ax.set_title('Mean Salary VS Company Size', fontdict={'fontsize': 16})\n",
    "\n",
    "plt.subplot(1, 2, 2)\n",
    "sns.set_palette('Set2')\n",
    "ax = sns.boxenplot(data=df, x='company_size', y='salary_in_usd')\n",
    "ax.set_title('Company Size VS Salary', fontdict={'fontsize': 16})"
   ]
  },
  {
   "cell_type": "markdown",
   "metadata": {
    "id": "JJvPLi81Qc3V"
   },
   "source": [
    "**Company Size VS Salary:**\n",
    "\n",
    "Data scientists whome are working at Large companies are compensated the highest with a mean salary of about 120,000 USD, while those working at small companies are paid the least with a mean salary of about 75,000 USD annualy."
   ]
  },
  {
   "cell_type": "markdown",
   "metadata": {
    "id": "dWTFH9RIWCsD"
   },
   "source": [
    "**Salary VS Job type (remote, hybrid, onsite)**"
   ]
  },
  {
   "cell_type": "code",
   "execution_count": 58,
   "metadata": {
    "colab": {
     "base_uri": "https://localhost:8080/"
    },
    "executionInfo": {
     "elapsed": 3,
     "status": "ok",
     "timestamp": 1669372343427,
     "user": {
      "displayName": "Amar Yasir",
      "userId": "15826574770568818472"
     },
     "user_tz": -480
    },
    "id": "5DGfO8_VQWYd",
    "outputId": "edcc0854-4950-4ffa-c761-e8e25d6a8456"
   },
   "outputs": [
    {
     "data": {
      "text/plain": [
       "job_type\n",
       "hybrid     80721.897959\n",
       "onsite    105785.404959\n",
       "remote    120763.190751\n",
       "Name: salary_in_usd, dtype: float64"
      ]
     },
     "execution_count": 58,
     "metadata": {},
     "output_type": "execute_result"
    }
   ],
   "source": [
    "# mean salary of employees with different job types\n",
    "mean_s_jtype = df.groupby('job_type')['salary_in_usd'].mean().sort_values()\n",
    "mean_s_jtype"
   ]
  },
  {
   "cell_type": "code",
   "execution_count": 59,
   "metadata": {
    "colab": {
     "base_uri": "https://localhost:8080/",
     "height": 479
    },
    "executionInfo": {
     "elapsed": 1093,
     "status": "ok",
     "timestamp": 1669372350465,
     "user": {
      "displayName": "Amar Yasir",
      "userId": "15826574770568818472"
     },
     "user_tz": -480
    },
    "id": "GXySDNwYQWa1",
    "outputId": "cb7b4702-f752-4527-e41e-cc81383d4038"
   },
   "outputs": [
    {
     "data": {
      "text/plain": [
       "Text(0.5, 1.0, 'Job Type VS Salary')"
      ]
     },
     "execution_count": 59,
     "metadata": {},
     "output_type": "execute_result"
    },
    {
     "data": {
      "image/png": "[encoded data removed]",
      "text/plain": [
       "<Figure size 1400x700 with 2 Axes>"
      ]
     },
     "metadata": {},
     "output_type": "display_data"
    }
   ],
   "source": [
    "plt.figure(figsize=(14, 7))\n",
    "sns.set_palette('spring')\n",
    "\n",
    "plt.subplot(1, 2, 1)\n",
    "ax = sns.barplot(x=mean_s_jtype.index, y=mean_s_jtype)\n",
    "ax.set_title('Mean Salary VS Job Type', fontdict={'fontsize': 16})\n",
    "\n",
    "plt.subplot(1, 2, 2)\n",
    "ax = sns.violinplot(data=df, x='job_type', y='salary_in_usd')\n",
    "ax.set_title('Job Type VS Salary', fontdict={'fontsize': 16})"
   ]
  },
  {
   "cell_type": "markdown",
   "metadata": {
    "id": "SlxnGc_CWKGy"
   },
   "source": [
    "**Job Type (remote, on-site or hybrid) VS Salary:**\n",
    "\n",
    "Data scientists working remotely earn about 120,000 USD which is of a higher mean salary than employees who work on-site and earn about 105,000 USD. Moreover, hybrid emoloyees earn a mean salary of about 80,000 USD annualy, which is a lower than the former two emplyment type mean."
   ]
  },
  {
   "cell_type": "code",
   "execution_count": null,
   "metadata": {},
   "outputs": [],
   "source": []
  },
  {
   "cell_type": "code",
   "execution_count": 60,
   "metadata": {},
   "outputs": [
    {
     "name": "stderr",
     "output_type": "stream",
     "text": [
      "C:\\Users\\3mmar\\anaconda3\\lib\\site-packages\\seaborn\\_decorators.py:36: FutureWarning: Pass the following variables as keyword args: x, y. From version 0.12, the only valid positional argument will be `data`, and passing other arguments without an explicit keyword will result in an error or misinterpretation.\n",
      "  warnings.warn(\n"
     ]
    },
    {
     "data": {
      "text/plain": [
       "Text(0.5, 1.0, 'Salary changes in the last three years')"
      ]
     },
     "execution_count": 60,
     "metadata": {},
     "output_type": "execute_result"
    },
    {
     "data": {
      "image/png": "[encoded data removed]",
      "text/plain": [
       "<Figure size 1600x800 with 1 Axes>"
      ]
     },
     "metadata": {},
     "output_type": "display_data"
    }
   ],
   "source": [
    "plt.figure(figsize=(16, 8))\n",
    "sns.set_palette('winter')\n",
    "sns.lineplot(df['work_year'],df['salary_in_usd'])\n",
    "plt.title(\"Salary changes in the last three years\",fontsize=20)"
   ]
  },
  {
   "cell_type": "code",
   "execution_count": null,
   "metadata": {},
   "outputs": [],
   "source": []
  },
  {
   "cell_type": "code",
   "execution_count": 61,
   "metadata": {},
   "outputs": [
    {
     "data": {
      "text/plain": [
       "Text(0.5, 1.0, 'Where is the place with the most jobs ?')"
      ]
     },
     "execution_count": 61,
     "metadata": {},
     "output_type": "execute_result"
    },
    {
     "data": {
      "image/png": "[encoded data removed]",
      "text/plain": [
       "<Figure size 1600x800 with 1 Axes>"
      ]
     },
     "metadata": {},
     "output_type": "display_data"
    }
   ],
   "source": [
    "plt.figure(figsize=(16, 8))\n",
    "sns.set_palette('spring')\n",
    "sns.countplot(y=df['company_location'],order=df['company_location'].value_counts().head().index)\n",
    "plt.title(\"Where is the place with the most jobs ?\",fontsize=20)"
   ]
  },
  {
   "cell_type": "code",
   "execution_count": null,
   "metadata": {},
   "outputs": [],
   "source": []
  },
  {
   "cell_type": "code",
   "execution_count": 62,
   "metadata": {},
   "outputs": [
    {
     "data": {
      "text/plain": [
       "Text(0.5, 1.0, 'What is the most frequent Job title ? ')"
      ]
     },
     "execution_count": 62,
     "metadata": {},
     "output_type": "execute_result"
    },
    {
     "data": {
      "image/png": "[encoded data removed]",
      "text/plain": [
       "<Figure size 1600x800 with 1 Axes>"
      ]
     },
     "metadata": {},
     "output_type": "display_data"
    }
   ],
   "source": [
    "plt.figure(figsize=(16, 8))\n",
    "sns.set_palette('Set2')\n",
    "sns.countplot(y=df['job_title'],order=df['job_title'].value_counts().head(10).index)\n",
    "plt.title(\"What is the most frequent Job title ? \",fontsize=20)"
   ]
  },
  {
   "cell_type": "code",
   "execution_count": null,
   "metadata": {},
   "outputs": [],
   "source": []
  },
  {
   "cell_type": "markdown",
   "metadata": {},
   "source": [
    "## Hypothesis testing"
   ]
  },
  {
   "cell_type": "markdown",
   "metadata": {},
   "source": [
    "**Z Test**"
   ]
  },
  {
   "cell_type": "code",
   "execution_count": 63,
   "metadata": {},
   "outputs": [],
   "source": [
    "import pandas as pd\n",
    "from scipy import stats\n",
    "from statsmodels.stats import weightstats as stests\n",
    "\n",
    "def ztest(x):\n",
    "    ztest ,pval = stests.ztest(df['salary_in_usd'], x2=None, value = x)\n",
    "    print(float(pval))\n",
    "    if pval<0.05:\n",
    "        print(\"reject null hypothesis\")\n",
    "    else:\n",
    "        print(\"accept null hypothesis\")\n",
    "        "
   ]
  },
  {
   "cell_type": "code",
   "execution_count": 64,
   "metadata": {},
   "outputs": [
    {
     "name": "stdout",
     "output_type": "stream",
     "text": [
      "1.0\n",
      "accept null hypothesis\n"
     ]
    }
   ],
   "source": [
    "ztest(mean)"
   ]
  },
  {
   "cell_type": "code",
   "execution_count": 65,
   "metadata": {},
   "outputs": [
    {
     "name": "stdout",
     "output_type": "stream",
     "text": [
      "0.840922783978523\n",
      "accept null hypothesis\n"
     ]
    }
   ],
   "source": [
    "ztest(110000)"
   ]
  },
  {
   "cell_type": "code",
   "execution_count": 66,
   "metadata": {},
   "outputs": [
    {
     "name": "stdout",
     "output_type": "stream",
     "text": [
      "3.380735357793958e-62\n",
      "reject null hypothesis\n"
     ]
    }
   ],
   "source": [
    "ztest(60000)"
   ]
  },
  {
   "cell_type": "code",
   "execution_count": null,
   "metadata": {},
   "outputs": [],
   "source": []
  },
  {
   "cell_type": "code",
   "execution_count": null,
   "metadata": {},
   "outputs": [],
   "source": []
  },
  {
   "cell_type": "markdown",
   "metadata": {},
   "source": [
    "## Modelling"
   ]
  },
  {
   "cell_type": "code",
   "execution_count": 67,
   "metadata": {},
   "outputs": [
    {
     "data": {
      "text/html": [
       "<div>\n",
       "<style scoped>\n",
       "    .dataframe tbody tr th:only-of-type {\n",
       "        vertical-align: middle;\n",
       "    }\n",
       "\n",
       "    .dataframe tbody tr th {\n",
       "        vertical-align: top;\n",
       "    }\n",
       "\n",
       "    .dataframe thead th {\n",
       "        text-align: right;\n",
       "    }\n",
       "</style>\n",
       "<table border=\"1\" class=\"dataframe\">\n",
       "  <thead>\n",
       "    <tr style=\"text-align: right;\">\n",
       "      <th></th>\n",
       "      <th>work_year</th>\n",
       "      <th>experience_level</th>\n",
       "      <th>employment_type</th>\n",
       "      <th>job_title</th>\n",
       "      <th>salary</th>\n",
       "      <th>salary_currency</th>\n",
       "      <th>salary_in_usd</th>\n",
       "      <th>employee_residence</th>\n",
       "      <th>job_type</th>\n",
       "      <th>company_location</th>\n",
       "      <th>company_size</th>\n",
       "    </tr>\n",
       "  </thead>\n",
       "  <tbody>\n",
       "    <tr>\n",
       "      <th>0</th>\n",
       "      <td>2020</td>\n",
       "      <td>Mid</td>\n",
       "      <td>Full-time</td>\n",
       "      <td>Data Scientist</td>\n",
       "      <td>70000</td>\n",
       "      <td>EUR</td>\n",
       "      <td>79833</td>\n",
       "      <td>Germany</td>\n",
       "      <td>onsite</td>\n",
       "      <td>Germany</td>\n",
       "      <td>Large</td>\n",
       "    </tr>\n",
       "    <tr>\n",
       "      <th>1</th>\n",
       "      <td>2020</td>\n",
       "      <td>Senior</td>\n",
       "      <td>Full-time</td>\n",
       "      <td>Machine Learning Scientist</td>\n",
       "      <td>260000</td>\n",
       "      <td>USD</td>\n",
       "      <td>260000</td>\n",
       "      <td>Japan</td>\n",
       "      <td>onsite</td>\n",
       "      <td>Japan</td>\n",
       "      <td>Small</td>\n",
       "    </tr>\n",
       "    <tr>\n",
       "      <th>2</th>\n",
       "      <td>2020</td>\n",
       "      <td>Senior</td>\n",
       "      <td>Full-time</td>\n",
       "      <td>Big Data Engineer</td>\n",
       "      <td>85000</td>\n",
       "      <td>GBP</td>\n",
       "      <td>109024</td>\n",
       "      <td>United Kingdom</td>\n",
       "      <td>hybrid</td>\n",
       "      <td>United Kingdom</td>\n",
       "      <td>Medium</td>\n",
       "    </tr>\n",
       "    <tr>\n",
       "      <th>3</th>\n",
       "      <td>2020</td>\n",
       "      <td>Mid</td>\n",
       "      <td>Full-time</td>\n",
       "      <td>Product Data Analyst</td>\n",
       "      <td>20000</td>\n",
       "      <td>USD</td>\n",
       "      <td>20000</td>\n",
       "      <td>Honduras</td>\n",
       "      <td>onsite</td>\n",
       "      <td>Honduras</td>\n",
       "      <td>Small</td>\n",
       "    </tr>\n",
       "    <tr>\n",
       "      <th>4</th>\n",
       "      <td>2020</td>\n",
       "      <td>Senior</td>\n",
       "      <td>Full-time</td>\n",
       "      <td>Machine Learning Engineer</td>\n",
       "      <td>150000</td>\n",
       "      <td>USD</td>\n",
       "      <td>150000</td>\n",
       "      <td>United States</td>\n",
       "      <td>hybrid</td>\n",
       "      <td>United States</td>\n",
       "      <td>Large</td>\n",
       "    </tr>\n",
       "  </tbody>\n",
       "</table>\n",
       "</div>"
      ],
      "text/plain": [
       "   work_year experience_level employment_type                   job_title  \\\n",
       "0       2020              Mid       Full-time              Data Scientist   \n",
       "1       2020           Senior       Full-time  Machine Learning Scientist   \n",
       "2       2020           Senior       Full-time           Big Data Engineer   \n",
       "3       2020              Mid       Full-time        Product Data Analyst   \n",
       "4       2020           Senior       Full-time   Machine Learning Engineer   \n",
       "\n",
       "   salary salary_currency  salary_in_usd employee_residence job_type  \\\n",
       "0   70000             EUR          79833            Germany   onsite   \n",
       "1  260000             USD         260000              Japan   onsite   \n",
       "2   85000             GBP         109024     United Kingdom   hybrid   \n",
       "3   20000             USD          20000           Honduras   onsite   \n",
       "4  150000             USD         150000      United States   hybrid   \n",
       "\n",
       "  company_location company_size  \n",
       "0          Germany        Large  \n",
       "1            Japan        Small  \n",
       "2   United Kingdom       Medium  \n",
       "3         Honduras        Small  \n",
       "4    United States        Large  "
      ]
     },
     "execution_count": 67,
     "metadata": {},
     "output_type": "execute_result"
    }
   ],
   "source": [
    "df.head()"
   ]
  },
  {
   "cell_type": "code",
   "execution_count": null,
   "metadata": {},
   "outputs": [],
   "source": []
  },
  {
   "cell_type": "markdown",
   "metadata": {},
   "source": [
    "**Normalizing the data**"
   ]
  },
  {
   "cell_type": "code",
   "execution_count": 68,
   "metadata": {},
   "outputs": [],
   "source": [
    "data = df.copy()"
   ]
  },
  {
   "cell_type": "code",
   "execution_count": 69,
   "metadata": {},
   "outputs": [],
   "source": [
    "from sklearn.preprocessing import RobustScaler"
   ]
  },
  {
   "cell_type": "code",
   "execution_count": 70,
   "metadata": {},
   "outputs": [],
   "source": [
    "scaled_features = data.copy()\n",
    "\n",
    "col_names = ['salary', 'salary_in_usd']\n",
    "features = scaled_features[col_names]\n",
    "\n",
    "scaler = RobustScaler().fit(features.values)\n",
    "features = scaler.transform(features.values)\n",
    "\n",
    "scaled_features[col_names] = features"
   ]
  },
  {
   "cell_type": "code",
   "execution_count": 71,
   "metadata": {},
   "outputs": [
    {
     "data": {
      "text/html": [
       "<div>\n",
       "<style scoped>\n",
       "    .dataframe tbody tr th:only-of-type {\n",
       "        vertical-align: middle;\n",
       "    }\n",
       "\n",
       "    .dataframe tbody tr th {\n",
       "        vertical-align: top;\n",
       "    }\n",
       "\n",
       "    .dataframe thead th {\n",
       "        text-align: right;\n",
       "    }\n",
       "</style>\n",
       "<table border=\"1\" class=\"dataframe\">\n",
       "  <thead>\n",
       "    <tr style=\"text-align: right;\">\n",
       "      <th></th>\n",
       "      <th>work_year</th>\n",
       "      <th>experience_level</th>\n",
       "      <th>employment_type</th>\n",
       "      <th>job_title</th>\n",
       "      <th>salary</th>\n",
       "      <th>salary_currency</th>\n",
       "      <th>salary_in_usd</th>\n",
       "      <th>employee_residence</th>\n",
       "      <th>job_type</th>\n",
       "      <th>company_location</th>\n",
       "      <th>company_size</th>\n",
       "    </tr>\n",
       "  </thead>\n",
       "  <tbody>\n",
       "    <tr>\n",
       "      <th>0</th>\n",
       "      <td>2020</td>\n",
       "      <td>Mid</td>\n",
       "      <td>Full-time</td>\n",
       "      <td>Data Scientist</td>\n",
       "      <td>-0.417602</td>\n",
       "      <td>EUR</td>\n",
       "      <td>-0.225979</td>\n",
       "      <td>Germany</td>\n",
       "      <td>onsite</td>\n",
       "      <td>Germany</td>\n",
       "      <td>Large</td>\n",
       "    </tr>\n",
       "    <tr>\n",
       "      <th>1</th>\n",
       "      <td>2020</td>\n",
       "      <td>Senior</td>\n",
       "      <td>Full-time</td>\n",
       "      <td>Machine Learning Scientist</td>\n",
       "      <td>1.521173</td>\n",
       "      <td>USD</td>\n",
       "      <td>1.792858</td>\n",
       "      <td>Japan</td>\n",
       "      <td>onsite</td>\n",
       "      <td>Japan</td>\n",
       "      <td>Small</td>\n",
       "    </tr>\n",
       "    <tr>\n",
       "      <th>2</th>\n",
       "      <td>2020</td>\n",
       "      <td>Senior</td>\n",
       "      <td>Full-time</td>\n",
       "      <td>Big Data Engineer</td>\n",
       "      <td>-0.264541</td>\n",
       "      <td>GBP</td>\n",
       "      <td>0.101117</td>\n",
       "      <td>United Kingdom</td>\n",
       "      <td>hybrid</td>\n",
       "      <td>United Kingdom</td>\n",
       "      <td>Medium</td>\n",
       "    </tr>\n",
       "    <tr>\n",
       "      <th>3</th>\n",
       "      <td>2020</td>\n",
       "      <td>Mid</td>\n",
       "      <td>Full-time</td>\n",
       "      <td>Product Data Analyst</td>\n",
       "      <td>-0.927806</td>\n",
       "      <td>USD</td>\n",
       "      <td>-0.896429</td>\n",
       "      <td>Honduras</td>\n",
       "      <td>onsite</td>\n",
       "      <td>Honduras</td>\n",
       "      <td>Small</td>\n",
       "    </tr>\n",
       "    <tr>\n",
       "      <th>4</th>\n",
       "      <td>2020</td>\n",
       "      <td>Senior</td>\n",
       "      <td>Full-time</td>\n",
       "      <td>Machine Learning Engineer</td>\n",
       "      <td>0.398724</td>\n",
       "      <td>USD</td>\n",
       "      <td>0.560268</td>\n",
       "      <td>United States</td>\n",
       "      <td>hybrid</td>\n",
       "      <td>United States</td>\n",
       "      <td>Large</td>\n",
       "    </tr>\n",
       "  </tbody>\n",
       "</table>\n",
       "</div>"
      ],
      "text/plain": [
       "   work_year experience_level employment_type                   job_title  \\\n",
       "0       2020              Mid       Full-time              Data Scientist   \n",
       "1       2020           Senior       Full-time  Machine Learning Scientist   \n",
       "2       2020           Senior       Full-time           Big Data Engineer   \n",
       "3       2020              Mid       Full-time        Product Data Analyst   \n",
       "4       2020           Senior       Full-time   Machine Learning Engineer   \n",
       "\n",
       "     salary salary_currency  salary_in_usd employee_residence job_type  \\\n",
       "0 -0.417602             EUR      -0.225979            Germany   onsite   \n",
       "1  1.521173             USD       1.792858              Japan   onsite   \n",
       "2 -0.264541             GBP       0.101117     United Kingdom   hybrid   \n",
       "3 -0.927806             USD      -0.896429           Honduras   onsite   \n",
       "4  0.398724             USD       0.560268      United States   hybrid   \n",
       "\n",
       "  company_location company_size  \n",
       "0          Germany        Large  \n",
       "1            Japan        Small  \n",
       "2   United Kingdom       Medium  \n",
       "3         Honduras        Small  \n",
       "4    United States        Large  "
      ]
     },
     "execution_count": 71,
     "metadata": {},
     "output_type": "execute_result"
    }
   ],
   "source": [
    "scaled_features.head()"
   ]
  },
  {
   "cell_type": "markdown",
   "metadata": {},
   "source": [
    "**Turning Categorical Columns into Numerical Columns**"
   ]
  },
  {
   "cell_type": "code",
   "execution_count": 72,
   "metadata": {},
   "outputs": [
    {
     "data": {
      "text/html": [
       "<div>\n",
       "<style scoped>\n",
       "    .dataframe tbody tr th:only-of-type {\n",
       "        vertical-align: middle;\n",
       "    }\n",
       "\n",
       "    .dataframe tbody tr th {\n",
       "        vertical-align: top;\n",
       "    }\n",
       "\n",
       "    .dataframe thead th {\n",
       "        text-align: right;\n",
       "    }\n",
       "</style>\n",
       "<table border=\"1\" class=\"dataframe\">\n",
       "  <thead>\n",
       "    <tr style=\"text-align: right;\">\n",
       "      <th></th>\n",
       "      <th>salary</th>\n",
       "      <th>salary_in_usd</th>\n",
       "      <th>work_year_2020</th>\n",
       "      <th>work_year_2021</th>\n",
       "      <th>work_year_2022</th>\n",
       "      <th>experience_level_Entry</th>\n",
       "      <th>experience_level_Executive</th>\n",
       "      <th>experience_level_Mid</th>\n",
       "      <th>experience_level_Senior</th>\n",
       "      <th>employment_type_Contract</th>\n",
       "      <th>...</th>\n",
       "      <th>company_location_Switzerland</th>\n",
       "      <th>company_location_Türkiye</th>\n",
       "      <th>company_location_Ukraine</th>\n",
       "      <th>company_location_United Arab Emirates</th>\n",
       "      <th>company_location_United Kingdom</th>\n",
       "      <th>company_location_United States</th>\n",
       "      <th>company_location_Vietnam</th>\n",
       "      <th>company_size_Large</th>\n",
       "      <th>company_size_Medium</th>\n",
       "      <th>company_size_Small</th>\n",
       "    </tr>\n",
       "  </thead>\n",
       "  <tbody>\n",
       "    <tr>\n",
       "      <th>0</th>\n",
       "      <td>-0.417602</td>\n",
       "      <td>-0.225979</td>\n",
       "      <td>1</td>\n",
       "      <td>0</td>\n",
       "      <td>0</td>\n",
       "      <td>0</td>\n",
       "      <td>0</td>\n",
       "      <td>1</td>\n",
       "      <td>0</td>\n",
       "      <td>0</td>\n",
       "      <td>...</td>\n",
       "      <td>0</td>\n",
       "      <td>0</td>\n",
       "      <td>0</td>\n",
       "      <td>0</td>\n",
       "      <td>0</td>\n",
       "      <td>0</td>\n",
       "      <td>0</td>\n",
       "      <td>1</td>\n",
       "      <td>0</td>\n",
       "      <td>0</td>\n",
       "    </tr>\n",
       "    <tr>\n",
       "      <th>1</th>\n",
       "      <td>1.521173</td>\n",
       "      <td>1.792858</td>\n",
       "      <td>1</td>\n",
       "      <td>0</td>\n",
       "      <td>0</td>\n",
       "      <td>0</td>\n",
       "      <td>0</td>\n",
       "      <td>0</td>\n",
       "      <td>1</td>\n",
       "      <td>0</td>\n",
       "      <td>...</td>\n",
       "      <td>0</td>\n",
       "      <td>0</td>\n",
       "      <td>0</td>\n",
       "      <td>0</td>\n",
       "      <td>0</td>\n",
       "      <td>0</td>\n",
       "      <td>0</td>\n",
       "      <td>0</td>\n",
       "      <td>0</td>\n",
       "      <td>1</td>\n",
       "    </tr>\n",
       "    <tr>\n",
       "      <th>2</th>\n",
       "      <td>-0.264541</td>\n",
       "      <td>0.101117</td>\n",
       "      <td>1</td>\n",
       "      <td>0</td>\n",
       "      <td>0</td>\n",
       "      <td>0</td>\n",
       "      <td>0</td>\n",
       "      <td>0</td>\n",
       "      <td>1</td>\n",
       "      <td>0</td>\n",
       "      <td>...</td>\n",
       "      <td>0</td>\n",
       "      <td>0</td>\n",
       "      <td>0</td>\n",
       "      <td>0</td>\n",
       "      <td>1</td>\n",
       "      <td>0</td>\n",
       "      <td>0</td>\n",
       "      <td>0</td>\n",
       "      <td>1</td>\n",
       "      <td>0</td>\n",
       "    </tr>\n",
       "    <tr>\n",
       "      <th>3</th>\n",
       "      <td>-0.927806</td>\n",
       "      <td>-0.896429</td>\n",
       "      <td>1</td>\n",
       "      <td>0</td>\n",
       "      <td>0</td>\n",
       "      <td>0</td>\n",
       "      <td>0</td>\n",
       "      <td>1</td>\n",
       "      <td>0</td>\n",
       "      <td>0</td>\n",
       "      <td>...</td>\n",
       "      <td>0</td>\n",
       "      <td>0</td>\n",
       "      <td>0</td>\n",
       "      <td>0</td>\n",
       "      <td>0</td>\n",
       "      <td>0</td>\n",
       "      <td>0</td>\n",
       "      <td>0</td>\n",
       "      <td>0</td>\n",
       "      <td>1</td>\n",
       "    </tr>\n",
       "    <tr>\n",
       "      <th>4</th>\n",
       "      <td>0.398724</td>\n",
       "      <td>0.560268</td>\n",
       "      <td>1</td>\n",
       "      <td>0</td>\n",
       "      <td>0</td>\n",
       "      <td>0</td>\n",
       "      <td>0</td>\n",
       "      <td>0</td>\n",
       "      <td>1</td>\n",
       "      <td>0</td>\n",
       "      <td>...</td>\n",
       "      <td>0</td>\n",
       "      <td>0</td>\n",
       "      <td>0</td>\n",
       "      <td>0</td>\n",
       "      <td>0</td>\n",
       "      <td>1</td>\n",
       "      <td>0</td>\n",
       "      <td>1</td>\n",
       "      <td>0</td>\n",
       "      <td>0</td>\n",
       "    </tr>\n",
       "  </tbody>\n",
       "</table>\n",
       "<p>5 rows × 193 columns</p>\n",
       "</div>"
      ],
      "text/plain": [
       "     salary  salary_in_usd  work_year_2020  work_year_2021  work_year_2022  \\\n",
       "0 -0.417602      -0.225979               1               0               0   \n",
       "1  1.521173       1.792858               1               0               0   \n",
       "2 -0.264541       0.101117               1               0               0   \n",
       "3 -0.927806      -0.896429               1               0               0   \n",
       "4  0.398724       0.560268               1               0               0   \n",
       "\n",
       "   experience_level_Entry  experience_level_Executive  experience_level_Mid  \\\n",
       "0                       0                           0                     1   \n",
       "1                       0                           0                     0   \n",
       "2                       0                           0                     0   \n",
       "3                       0                           0                     1   \n",
       "4                       0                           0                     0   \n",
       "\n",
       "   experience_level_Senior  employment_type_Contract  ...  \\\n",
       "0                        0                         0  ...   \n",
       "1                        1                         0  ...   \n",
       "2                        1                         0  ...   \n",
       "3                        0                         0  ...   \n",
       "4                        1                         0  ...   \n",
       "\n",
       "   company_location_Switzerland  company_location_Türkiye  \\\n",
       "0                             0                         0   \n",
       "1                             0                         0   \n",
       "2                             0                         0   \n",
       "3                             0                         0   \n",
       "4                             0                         0   \n",
       "\n",
       "   company_location_Ukraine  company_location_United Arab Emirates  \\\n",
       "0                         0                                      0   \n",
       "1                         0                                      0   \n",
       "2                         0                                      0   \n",
       "3                         0                                      0   \n",
       "4                         0                                      0   \n",
       "\n",
       "   company_location_United Kingdom  company_location_United States  \\\n",
       "0                                0                               0   \n",
       "1                                0                               0   \n",
       "2                                1                               0   \n",
       "3                                0                               0   \n",
       "4                                0                               1   \n",
       "\n",
       "   company_location_Vietnam  company_size_Large  company_size_Medium  \\\n",
       "0                         0                   1                    0   \n",
       "1                         0                   0                    0   \n",
       "2                         0                   0                    1   \n",
       "3                         0                   0                    0   \n",
       "4                         0                   1                    0   \n",
       "\n",
       "   company_size_Small  \n",
       "0                   0  \n",
       "1                   1  \n",
       "2                   0  \n",
       "3                   1  \n",
       "4                   0  \n",
       "\n",
       "[5 rows x 193 columns]"
      ]
     },
     "execution_count": 72,
     "metadata": {},
     "output_type": "execute_result"
    }
   ],
   "source": [
    "scaled_features_dummy = scaled_features.copy()\n",
    "\n",
    "scaled_features_dummy = pd.get_dummies(scaled_features_dummy,\n",
    "                         columns = ['work_year', 'experience_level', 'employment_type',\n",
    "       'job_title', 'salary_currency', 'employee_residence', 'job_type', 'company_location',\n",
    "       'company_size'])\n",
    "  \n",
    "scaled_features_dummy.head()"
   ]
  },
  {
   "cell_type": "code",
   "execution_count": null,
   "metadata": {},
   "outputs": [],
   "source": []
  },
  {
   "cell_type": "markdown",
   "metadata": {},
   "source": [
    "**FEATURE SELECTION & DATA SPLIT**"
   ]
  },
  {
   "cell_type": "code",
   "execution_count": 73,
   "metadata": {},
   "outputs": [],
   "source": [
    "from sklearn.model_selection import train_test_split # for data split\n",
    "from sklearn.metrics import r2_score as r2 # evaluation metric\n",
    "from sklearn.metrics import mean_squared_error as m2_error"
   ]
  },
  {
   "cell_type": "code",
   "execution_count": 74,
   "metadata": {},
   "outputs": [],
   "source": [
    "X_var = scaled_features_dummy.drop(['salary', 'salary_in_usd'],axis=1) # Features\n",
    "y_var = scaled_features_dummy['salary_in_usd']"
   ]
  },
  {
   "cell_type": "code",
   "execution_count": 75,
   "metadata": {},
   "outputs": [],
   "source": [
    "#Splitting the data into training and testing datasets\n",
    "X_train, X_test, y_train, y_test = train_test_split(X_var, y_var, test_size = 0.2, random_state = 42) #80 % training and 20% testing"
   ]
  },
  {
   "cell_type": "code",
   "execution_count": 76,
   "metadata": {},
   "outputs": [
    {
     "name": "stdout",
     "output_type": "stream",
     "text": [
      "(452, 191)\n",
      "(113, 191)\n"
     ]
    }
   ],
   "source": [
    "print(X_train.shape); print(X_test.shape)"
   ]
  },
  {
   "cell_type": "code",
   "execution_count": null,
   "metadata": {},
   "outputs": [],
   "source": []
  },
  {
   "cell_type": "markdown",
   "metadata": {},
   "source": [
    "**OneHotEncoder using pipelines**"
   ]
  },
  {
   "cell_type": "code",
   "execution_count": 77,
   "metadata": {},
   "outputs": [],
   "source": [
    "from sklearn.preprocessing import OneHotEncoder\n",
    "from sklearn.pipeline import Pipeline\n",
    "\n",
    "pipeline = Pipeline([\n",
    "    ('one_hot_cat',OneHotEncoder())\n",
    "])\n",
    " \n",
    "\n",
    "train_pipelined = pipeline.fit_transform(X_var)"
   ]
  },
  {
   "cell_type": "code",
   "execution_count": 78,
   "metadata": {},
   "outputs": [
    {
     "data": {
      "text/plain": [
       "(565, 382)"
      ]
     },
     "execution_count": 78,
     "metadata": {},
     "output_type": "execute_result"
    }
   ],
   "source": [
    "train_pipelined.shape"
   ]
  },
  {
   "cell_type": "code",
   "execution_count": null,
   "metadata": {},
   "outputs": [],
   "source": []
  },
  {
   "cell_type": "markdown",
   "metadata": {},
   "source": [
    "**First Model (Linear Regression)**"
   ]
  },
  {
   "cell_type": "code",
   "execution_count": 79,
   "metadata": {},
   "outputs": [
    {
     "data": {
      "text/plain": [
       "LinearRegression()"
      ]
     },
     "execution_count": 79,
     "metadata": {},
     "output_type": "execute_result"
    }
   ],
   "source": [
    "from sklearn.linear_model import LinearRegression\n",
    "\n",
    "ols = LinearRegression()\n",
    "\n",
    "ols.fit(train_pipelined, y_var)"
   ]
  },
  {
   "cell_type": "code",
   "execution_count": 80,
   "metadata": {},
   "outputs": [],
   "source": [
    "features = X_var.iloc[:5]\n",
    "labels = y_var.iloc[:5]\n",
    "\n",
    "pipelined = pipeline.transform(features)"
   ]
  },
  {
   "cell_type": "code",
   "execution_count": 81,
   "metadata": {},
   "outputs": [
    {
     "data": {
      "text/plain": [
       "array([ 0.00369044,  1.2107432 , -0.10757887, -0.8965345 ,  0.86496607])"
      ]
     },
     "execution_count": 81,
     "metadata": {},
     "output_type": "execute_result"
    }
   ],
   "source": [
    "ols.predict(pipelined)"
   ]
  },
  {
   "cell_type": "code",
   "execution_count": 82,
   "metadata": {},
   "outputs": [
    {
     "data": {
      "text/plain": [
       "[-0.2259785081182838,\n",
       " 1.7928577031251751,\n",
       " 0.10111717445625988,\n",
       " -0.8964288515625876,\n",
       " 0.5602680322266173]"
      ]
     },
     "execution_count": 82,
     "metadata": {},
     "output_type": "execute_result"
    }
   ],
   "source": [
    "list(labels)"
   ]
  },
  {
   "cell_type": "code",
   "execution_count": 83,
   "metadata": {},
   "outputs": [],
   "source": [
    "test_pipelined = pipeline.transform(X_test)"
   ]
  },
  {
   "cell_type": "code",
   "execution_count": 84,
   "metadata": {},
   "outputs": [],
   "source": [
    "ols_pred = ols.predict(test_pipelined)"
   ]
  },
  {
   "cell_type": "code",
   "execution_count": 85,
   "metadata": {},
   "outputs": [
    {
     "data": {
      "text/plain": [
       "0.6597577247309563"
      ]
     },
     "execution_count": 85,
     "metadata": {},
     "output_type": "execute_result"
    }
   ],
   "source": [
    "from sklearn.metrics import mean_squared_error\n",
    "\n",
    "ols_score = ols.score(test_pipelined,y_test)\n",
    "ols_score"
   ]
  },
  {
   "cell_type": "code",
   "execution_count": 86,
   "metadata": {},
   "outputs": [
    {
     "data": {
      "text/plain": [
       "0.4530178612702539"
      ]
     },
     "execution_count": 86,
     "metadata": {},
     "output_type": "execute_result"
    }
   ],
   "source": [
    "ols_RMSE = np.sqrt(m2_error(y_test, ols_pred))\n",
    "ols_RMSE"
   ]
  },
  {
   "cell_type": "code",
   "execution_count": 87,
   "metadata": {},
   "outputs": [
    {
     "name": "stdout",
     "output_type": "stream",
     "text": [
      "Model   : Linear Regression\n",
      "R2 score: 0.6597577247309563\n",
      "RMSE    : 0.4530178612702539\n"
     ]
    }
   ],
   "source": [
    "print('Model   : Linear Regression')\n",
    "print('R2 score:', ols_score)\n",
    "print('RMSE    :', ols_RMSE)"
   ]
  },
  {
   "cell_type": "code",
   "execution_count": null,
   "metadata": {},
   "outputs": [],
   "source": []
  },
  {
   "cell_type": "markdown",
   "metadata": {},
   "source": [
    "**Second Model (DecisionTreeRegressor)**"
   ]
  },
  {
   "cell_type": "code",
   "execution_count": 88,
   "metadata": {},
   "outputs": [],
   "source": [
    "from sklearn.tree import DecisionTreeRegressor  # DecisionTreeRegressor"
   ]
  },
  {
   "cell_type": "code",
   "execution_count": 89,
   "metadata": {},
   "outputs": [],
   "source": [
    "models = {\n",
    "    \"Decision Tree\":DecisionTreeRegressor()\n",
    "}"
   ]
  },
  {
   "cell_type": "code",
   "execution_count": 90,
   "metadata": {},
   "outputs": [],
   "source": [
    "Results = {\n",
    "    \"Model\":[],\n",
    "    \"Train Score\":[],\n",
    "    \"Test Score\":[],\n",
    "    \"RMSE\":[]\n",
    "}"
   ]
  },
  {
   "cell_type": "code",
   "execution_count": null,
   "metadata": {},
   "outputs": [],
   "source": []
  },
  {
   "cell_type": "code",
   "execution_count": 91,
   "metadata": {},
   "outputs": [
    {
     "name": "stdout",
     "output_type": "stream",
     "text": [
      "Model      :  Decision Tree\n",
      "Train Score:  0.8939954216934513\n",
      "Test Score :  0.42083262312429826\n",
      "RMSE       :  0.59\n",
      "===========================\n"
     ]
    }
   ],
   "source": [
    "for name, model in models.items():\n",
    "    model.fit(X_train, y_train)\n",
    "    train_pred = model.predict(X_train)\n",
    "    train_s = r2(y_train, train_pred)\n",
    "    \n",
    "    y_pred = model.predict(X_test)\n",
    "    test_s = r2(y_test, y_pred)\n",
    "    RMSE = np.sqrt(m2_error(y_test, y_pred))\n",
    "    Results[\"Model\"].append(name)\n",
    "    Results[\"Train Score\"].append(train_s)\n",
    "    Results[\"Test Score\"].append(test_s)\n",
    "    Results[\"RMSE\"].append(RMSE)\n",
    "    print(\"Model      : \" , name)\n",
    "    print(\"Train Score: \" , train_s)\n",
    "    print(\"Test Score : \" , test_s)\n",
    "    print(\"RMSE       : \" , round(RMSE,2))\n",
    "    print(\"===========================\")"
   ]
  },
  {
   "cell_type": "code",
   "execution_count": 94,
   "metadata": {},
   "outputs": [
    {
     "data": {
      "text/plain": [
       "{'Decision Tree': 0.5910486558308675, 'Linear Regression': 0.4530178612702539}"
      ]
     },
     "execution_count": 94,
     "metadata": {},
     "output_type": "execute_result"
    }
   ],
   "source": [
    "RMSE_keys = ['Decision Tree', 'Linear Regression']\n",
    "\n",
    "RMSE_values = Results[\"RMSE\"]\n",
    "RMSE_values.append(ols_RMSE)\n",
    "\n",
    "RMSE_dict = {RMSE_keys[i]: RMSE_values[i] for i in range(len(RMSE_keys))}\n",
    "RMSE_dict"
   ]
  },
  {
   "cell_type": "code",
   "execution_count": null,
   "metadata": {},
   "outputs": [],
   "source": []
  },
  {
   "cell_type": "code",
   "execution_count": 95,
   "metadata": {},
   "outputs": [
    {
     "data": {
      "text/plain": [
       "<BarContainer object of 2 artists>"
      ]
     },
     "execution_count": 95,
     "metadata": {},
     "output_type": "execute_result"
    },
    {
     "data": {
      "image/png": "[encoded data removed]",
      "text/plain": [
       "<Figure size 700x500 with 1 Axes>"
      ]
     },
     "metadata": {},
     "output_type": "display_data"
    }
   ],
   "source": [
    "plt.figure(figsize=(7, 5))\n",
    "\n",
    "keys = RMSE_dict.keys()\n",
    "values = RMSE_dict.values()\n",
    "\n",
    "plt.bar(keys, values)"
   ]
  },
  {
   "cell_type": "markdown",
   "metadata": {},
   "source": [
    "**Because Linear regression has the least RMSE therefore its the best to use**"
   ]
  },
  {
   "cell_type": "code",
   "execution_count": null,
   "metadata": {},
   "outputs": [],
   "source": []
  },
  {
   "cell_type": "markdown",
   "metadata": {},
   "source": [
    "# *END, Thank You*"
   ]
  },
  {
   "cell_type": "code",
   "execution_count": null,
   "metadata": {},
   "outputs": [],
   "source": []
  },
  {
   "cell_type": "code",
   "execution_count": null,
   "metadata": {},
   "outputs": [],
   "source": []
  }
 ],
 "metadata": {
  "colab": {
   "authorship_tag": "ABX9TyOXIPGchOEBNdaPuxwTeH26",
   "provenance": [],
   "toc_visible": true
  },
  "kernelspec": {
   "display_name": "Python 3 (ipykernel)",
   "language": "python",
   "name": "python3"
  },
  "language_info": {
   "codemirror_mode": {
    "name": "ipython",
    "version": 3
   },
   "file_extension": ".py",
   "mimetype": "text/x-python",
   "name": "python",
   "nbconvert_exporter": "python",
   "pygments_lexer": "ipython3",
   "version": "3.9.13"
  }
 },
 "nbformat": 4,
 "nbformat_minor": 4
}
